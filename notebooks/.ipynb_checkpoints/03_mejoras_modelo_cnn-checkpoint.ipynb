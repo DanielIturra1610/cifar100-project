{
 "cells": [
  {
   "cell_type": "markdown",
   "id": "9be53922-535f-497a-8b0a-98f866b8d6ce",
   "metadata": {},
   "source": [
    "# 🛠️ Mejora del modelo CNN con Data Augmentation y Regularización\n",
    "\n",
    "**Notebook 03 – Mejora del modelo base**\n",
    "\n",
    "En este notebook aplicamos técnicas para mejorar el rendimiento del modelo CNN:\n",
    "- Aumento de datos (data augmentation)\n",
    "- Normalización por lotes (Batch Normalization)\n",
    "- Regularización con Dropout\n",
    "- Detención temprana del entrenamiento (EarlyStopping)\n",
    "\n",
    "---\n"
   ]
  },
  {
   "cell_type": "markdown",
   "id": "9ac867a5-f789-438b-8988-eed825a9e9ad",
   "metadata": {},
   "source": [
    "## 🔁 1. Carga y preprocesamiento de datos\n",
    "\n",
    "Volvemos a cargar el dataset CIFAR-100 y aplicamos las transformaciones necesarias para preparar los datos antes del entrenamiento.\n"
   ]
  },
  {
   "cell_type": "code",
   "execution_count": 14,
   "id": "92980a74-b795-46fe-9204-f2a992019414",
   "metadata": {},
   "outputs": [],
   "source": [
    "from tensorflow.keras.datasets import cifar100\n",
    "from tensorflow.keras.utils import to_categorical\n",
    "\n",
    "# Cargar datos\n",
    "(x_train, y_train), (x_test, y_test) = cifar100.load_data(label_mode='fine')\n",
    "\n",
    "# Normalizar\n",
    "x_train = x_train.astype('float32') / 255.0\n",
    "x_test = x_test.astype('float32') / 255.0\n",
    "\n",
    "# One-hot encoding\n",
    "y_train_cat = to_categorical(y_train, 100)\n",
    "y_test_cat = to_categorical(y_test, 100)\n"
   ]
  },
  {
   "cell_type": "markdown",
   "id": "0f791756-18a1-41a6-a1bb-fcc16a631e22",
   "metadata": {},
   "source": [
    "## 🔄 2. Aumento de datos (Data Augmentation)\n",
    "\n",
    "Usamos `ImageDataGenerator` para crear nuevas versiones de las imágenes originales mediante transformaciones aleatorias, lo cual mejora la generalización del modelo.\n"
   ]
  },
  {
   "cell_type": "code",
   "execution_count": 15,
   "id": "3d7e0ccb-5e6a-4d7c-b6ae-d9e0d7e1955b",
   "metadata": {},
   "outputs": [],
   "source": [
    "from tensorflow.keras.preprocessing.image import ImageDataGenerator\n",
    "\n",
    "# Crear generador con aumentos\n",
    "datagen = ImageDataGenerator(\n",
    "    rotation_range=20,\n",
    "    width_shift_range=0.2,\n",
    "    height_shift_range=0.2,\n",
    "    shear_range=0.1,\n",
    "    zoom_range=0.2,\n",
    "    horizontal_flip=True,\n",
    "    validation_split=0.2\n",
    ")\n",
    "\n",
    "# Generadores para entrenamiento y validación\n",
    "train_generator = datagen.flow(\n",
    "    x_train, y_train_cat,\n",
    "    batch_size=32,\n",
    "    subset='training'\n",
    ")\n",
    "\n",
    "val_generator = datagen.flow(\n",
    "    x_train, y_train_cat,\n",
    "    batch_size=32,\n",
    "    subset='validation'\n",
    ")\n"
   ]
  },
  {
   "cell_type": "markdown",
   "id": "d0837c31-48df-4425-ba6e-394256c04c76",
   "metadata": {},
   "source": [
    "## 🧱 3. Rediseño del modelo CNN con mejoras\n",
    "\n",
    "Rediseñamos el modelo para incluir técnicas de regularización y estabilización del entrenamiento:\n",
    "- **Batch Normalization**: estabiliza y acelera el entrenamiento.\n",
    "- **Dropout**: evita el sobreajuste al apagar neuronas de forma aleatoria.\n"
   ]
  },
  {
   "cell_type": "code",
   "execution_count": 16,
   "id": "4f7b0fd1-76dd-4cb5-9e09-3488975436c3",
   "metadata": {},
   "outputs": [],
   "source": [
    "from tensorflow.keras import layers, models, regularizers\n",
    "from tensorflow.keras.optimizers import SGD\n",
    "\n",
    "def inception_block(x, filters):\n",
    "    f1, f3, f5 = filters\n",
    "\n",
    "    path1 = layers.Conv2D(f1, (1, 1), padding='same', kernel_regularizer=regularizers.l2(1e-4))(x)\n",
    "    path1 = layers.LeakyReLU(alpha=0.1)(path1)\n",
    "\n",
    "    path2 = layers.Conv2D(f3, (1, 1), padding='same', kernel_regularizer=regularizers.l2(1e-4))(x)\n",
    "    path2 = layers.LeakyReLU(alpha=0.1)(path2)\n",
    "    path2 = layers.Conv2D(f3, (3, 3), padding='same', kernel_regularizer=regularizers.l2(1e-4))(path2)\n",
    "    path2 = layers.LeakyReLU(alpha=0.1)(path2)\n",
    "\n",
    "    path3 = layers.Conv2D(f5, (1, 1), padding='same', kernel_regularizer=regularizers.l2(1e-4))(x)\n",
    "    path3 = layers.LeakyReLU(alpha=0.1)(path3)\n",
    "    path3 = layers.Conv2D(f5, (5, 5), padding='same', kernel_regularizer=regularizers.l2(1e-4))(path3)\n",
    "    path3 = layers.LeakyReLU(alpha=0.1)(path3)\n",
    "\n",
    "    path4 = layers.MaxPooling2D((3, 3), strides=(1, 1), padding='same')(x)\n",
    "    path4 = layers.Conv2D(f1, (1, 1), padding='same', kernel_regularizer=regularizers.l2(1e-4))(path4)\n",
    "    path4 = layers.LeakyReLU(alpha=0.1)(path4)\n",
    "\n",
    "    return layers.concatenate([path1, path2, path3, path4], axis=-1)\n",
    "\n",
    "input_layer = layers.Input(shape=(32, 32, 3))\n",
    "x = layers.Conv2D(32, (3, 3), padding='same', kernel_regularizer=regularizers.l2(1e-4))(input_layer)\n",
    "x = layers.LeakyReLU(alpha=0.1)(x)\n",
    "x = layers.BatchNormalization()(x)\n",
    "x = layers.Conv2D(32, (3, 3), kernel_regularizer=regularizers.l2(1e-4))(x)\n",
    "x = layers.LeakyReLU(alpha=0.1)(x)\n",
    "x = layers.BatchNormalization()(x)\n",
    "x = layers.MaxPooling2D((2, 2))(x)\n",
    "x = layers.Dropout(0.25)(x)\n",
    "\n",
    "x = inception_block(x, filters=(64, 96, 128))\n",
    "x = layers.BatchNormalization()(x)\n",
    "x = layers.MaxPooling2D((2, 2))(x)\n",
    "x = layers.Dropout(0.3)(x)\n",
    "\n",
    "x = inception_block(x, filters=(64, 96, 128))\n",
    "x = layers.BatchNormalization()(x)\n",
    "x = layers.MaxPooling2D((2, 2))(x)\n",
    "x = layers.Dropout(0.3)(x)\n",
    "\n",
    "x = layers.Conv2D(64, (3, 3), padding='same', kernel_regularizer=regularizers.l2(1e-4))(x)\n",
    "x = layers.LeakyReLU(alpha=0.1)(x)\n",
    "x = layers.BatchNormalization()(x)\n",
    "x = layers.MaxPooling2D((2, 2))(x)\n",
    "x = layers.Dropout(0.4)(x)\n",
    "\n",
    "x = layers.GlobalAveragePooling2D()(x)  # Paso 5\n",
    "x = layers.Dense(256, kernel_regularizer=regularizers.l2(1e-4))(x)\n",
    "x = layers.LeakyReLU(alpha=0.1)(x)\n",
    "x = layers.BatchNormalization()(x)\n",
    "x = layers.Dropout(0.5)(x)\n",
    "output = layers.Dense(100, activation='softmax')(x)\n",
    "\n",
    "model = models.Model(inputs=input_layer, outputs=output)\n"
   ]
  },
  {
   "cell_type": "markdown",
   "id": "409868c6-eb1a-47ae-8fd4-846a85fd4d27",
   "metadata": {},
   "source": [
    "## ⚙️ 4. Compilación del modelo\n",
    "\n",
    "Compilamos el modelo con el optimizador Adam, la función de pérdida `categorical_crossentropy` y la métrica de precisión.\n"
   ]
  },
  {
   "cell_type": "code",
   "execution_count": 17,
   "id": "4d76386f-23ba-4e89-abc0-62d821130882",
   "metadata": {},
   "outputs": [],
   "source": [
    "from tensorflow.keras.callbacks import ModelCheckpoint\n",
    "\n",
    "# Guardar el mejor modelo basado en val_accuracy\n",
    "checkpoint_cb = ModelCheckpoint(\n",
    "    filepath='checkpoints/cnn_cifar100_best.h5',\n",
    "    monitor='val_accuracy',\n",
    "    save_best_only=True,\n",
    "    verbose=1\n",
    ")"
   ]
  },
  {
   "cell_type": "code",
   "execution_count": 18,
   "id": "a02d6f65-6779-429f-ba33-c5dde8cbcf0b",
   "metadata": {},
   "outputs": [],
   "source": [
    "optimizer = SGD(learning_rate=1e-2, momentum=0.9, nesterov=True)\n",
    "\n",
    "model.compile(\n",
    "    optimizer=optimizer,\n",
    "    loss='categorical_crossentropy',\n",
    "    metrics=['accuracy']\n",
    ")\n"
   ]
  },
  {
   "cell_type": "markdown",
   "id": "f3ac7301-221e-44a1-af25-5bd45df21629",
   "metadata": {},
   "source": [
    "### 🛑 Configurar EarlyStopping\n",
    "Este callback detendrá el entrenamiento si la precisión de validación deja de mejorar tras 5 épocas consecutivas:"
   ]
  },
  {
   "cell_type": "code",
   "execution_count": 19,
   "id": "8d12e6e2-7a62-41f8-b61f-fa0398f0e909",
   "metadata": {},
   "outputs": [],
   "source": [
    "from tensorflow.keras.callbacks import EarlyStopping\n",
    "\n",
    "early_stop = EarlyStopping(\n",
    "    monitor='val_accuracy',\n",
    "    patience=5,\n",
    "    restore_best_weights=True,\n",
    "    verbose=1\n",
    ")\n"
   ]
  },
  {
   "cell_type": "code",
   "execution_count": 20,
   "id": "5adc9fc8-029a-4ca0-908c-34542a746679",
   "metadata": {},
   "outputs": [],
   "source": [
    "from tensorflow.keras.callbacks import ReduceLROnPlateau\n",
    "\n",
    "reduce_lr = ReduceLROnPlateau(\n",
    "    monitor='val_accuracy',\n",
    "    factor=0.5,\n",
    "    patience=3,\n",
    "    verbose=1,\n",
    "    min_lr=1e-6\n",
    ")"
   ]
  },
  {
   "cell_type": "markdown",
   "id": "2c6b8ce4-9dbc-40d1-b7e4-db8b5e082606",
   "metadata": {},
   "source": [
    "## 🧠 5. Entrenamiento con EarlyStopping\n",
    "\n",
    "Entrenamos el modelo usando los datos aumentados y aplicamos la técnica de detención temprana (EarlyStopping) para evitar sobreentrenamiento.\n"
   ]
  },
  {
   "cell_type": "code",
   "execution_count": 21,
   "id": "a47312c1-6707-4765-9e54-7ddc01dfde3e",
   "metadata": {},
   "outputs": [
    {
     "name": "stdout",
     "output_type": "stream",
     "text": [
      "Epoch 1/50\n",
      "1250/1250 [==============================] - ETA: 0s - loss: 4.3262 - accuracy: 0.0764\n",
      "Epoch 1: val_accuracy improved from -inf to 0.12970, saving model to checkpoints/cnn_cifar100_best.h5\n",
      "1250/1250 [==============================] - 105s 83ms/step - loss: 4.3262 - accuracy: 0.0764 - val_loss: 3.8202 - val_accuracy: 0.1297 - lr: 0.0100\n",
      "Epoch 2/50\n",
      "   1/1250 [..............................] - ETA: 1:49 - loss: 3.8910 - accuracy: 0.1250"
     ]
    },
    {
     "name": "stderr",
     "output_type": "stream",
     "text": [
      "/usr/local/lib/python3.10/site-packages/keras/src/engine/training.py:3103: UserWarning: You are saving your model as an HDF5 file via `model.save()`. This file format is considered legacy. We recommend using instead the native Keras format, e.g. `model.save('my_model.keras')`.\n",
      "  saving_api.save_model(\n"
     ]
    },
    {
     "name": "stdout",
     "output_type": "stream",
     "text": [
      "1250/1250 [==============================] - ETA: 0s - loss: 3.7014 - accuracy: 0.1430\n",
      "Epoch 2: val_accuracy improved from 0.12970 to 0.17600, saving model to checkpoints/cnn_cifar100_best.h5\n",
      "1250/1250 [==============================] - 93s 75ms/step - loss: 3.7014 - accuracy: 0.1430 - val_loss: 3.5479 - val_accuracy: 0.1760 - lr: 0.0100\n",
      "Epoch 3/50\n",
      "1250/1250 [==============================] - ETA: 0s - loss: 3.4792 - accuracy: 0.1806\n",
      "Epoch 3: val_accuracy improved from 0.17600 to 0.20240, saving model to checkpoints/cnn_cifar100_best.h5\n",
      "1250/1250 [==============================] - 95s 76ms/step - loss: 3.4792 - accuracy: 0.1806 - val_loss: 3.3687 - val_accuracy: 0.2024 - lr: 0.0100\n",
      "Epoch 4/50\n",
      "1250/1250 [==============================] - ETA: 0s - loss: 3.3290 - accuracy: 0.2092\n",
      "Epoch 4: val_accuracy improved from 0.20240 to 0.22580, saving model to checkpoints/cnn_cifar100_best.h5\n",
      "1250/1250 [==============================] - 91s 73ms/step - loss: 3.3290 - accuracy: 0.2092 - val_loss: 3.2229 - val_accuracy: 0.2258 - lr: 0.0100\n",
      "Epoch 5/50\n",
      "1250/1250 [==============================] - ETA: 0s - loss: 3.2220 - accuracy: 0.2308\n",
      "Epoch 5: val_accuracy improved from 0.22580 to 0.25320, saving model to checkpoints/cnn_cifar100_best.h5\n",
      "1250/1250 [==============================] - 90s 72ms/step - loss: 3.2220 - accuracy: 0.2308 - val_loss: 3.1096 - val_accuracy: 0.2532 - lr: 0.0100\n",
      "Epoch 6/50\n",
      "1250/1250 [==============================] - ETA: 0s - loss: 3.1395 - accuracy: 0.2479\n",
      "Epoch 6: val_accuracy did not improve from 0.25320\n",
      "1250/1250 [==============================] - 92s 73ms/step - loss: 3.1395 - accuracy: 0.2479 - val_loss: 3.1784 - val_accuracy: 0.2390 - lr: 0.0100\n",
      "Epoch 7/50\n",
      "1250/1250 [==============================] - ETA: 0s - loss: 3.0621 - accuracy: 0.2611\n",
      "Epoch 7: val_accuracy improved from 0.25320 to 0.27070, saving model to checkpoints/cnn_cifar100_best.h5\n",
      "1250/1250 [==============================] - 91s 73ms/step - loss: 3.0621 - accuracy: 0.2611 - val_loss: 3.0129 - val_accuracy: 0.2707 - lr: 0.0100\n",
      "Epoch 8/50\n",
      "1250/1250 [==============================] - ETA: 0s - loss: 3.0181 - accuracy: 0.2702\n",
      "Epoch 8: val_accuracy improved from 0.27070 to 0.29310, saving model to checkpoints/cnn_cifar100_best.h5\n",
      "1250/1250 [==============================] - 90s 72ms/step - loss: 3.0181 - accuracy: 0.2702 - val_loss: 2.9456 - val_accuracy: 0.2931 - lr: 0.0100\n",
      "Epoch 9/50\n",
      "1250/1250 [==============================] - ETA: 0s - loss: 2.9581 - accuracy: 0.2824\n",
      "Epoch 9: val_accuracy did not improve from 0.29310\n",
      "1250/1250 [==============================] - 91s 73ms/step - loss: 2.9581 - accuracy: 0.2824 - val_loss: 2.9728 - val_accuracy: 0.2816 - lr: 0.0100\n",
      "Epoch 10/50\n",
      "1250/1250 [==============================] - ETA: 0s - loss: 2.9166 - accuracy: 0.2895\n",
      "Epoch 10: val_accuracy did not improve from 0.29310\n",
      "1250/1250 [==============================] - 96s 77ms/step - loss: 2.9166 - accuracy: 0.2895 - val_loss: 3.0704 - val_accuracy: 0.2643 - lr: 0.0100\n",
      "Epoch 11/50\n",
      "1250/1250 [==============================] - ETA: 0s - loss: 2.8693 - accuracy: 0.3020\n",
      "Epoch 11: val_accuracy did not improve from 0.29310\n",
      "\n",
      "Epoch 11: ReduceLROnPlateau reducing learning rate to 0.004999999888241291.\n",
      "1250/1250 [==============================] - 96s 77ms/step - loss: 2.8693 - accuracy: 0.3020 - val_loss: 3.0181 - val_accuracy: 0.2751 - lr: 0.0100\n",
      "Epoch 12/50\n",
      "1250/1250 [==============================] - ETA: 0s - loss: 2.7759 - accuracy: 0.3196\n",
      "Epoch 12: val_accuracy improved from 0.29310 to 0.34700, saving model to checkpoints/cnn_cifar100_best.h5\n",
      "1250/1250 [==============================] - 96s 77ms/step - loss: 2.7759 - accuracy: 0.3196 - val_loss: 2.6696 - val_accuracy: 0.3470 - lr: 0.0050\n",
      "Epoch 13/50\n",
      "1250/1250 [==============================] - ETA: 0s - loss: 2.7457 - accuracy: 0.3273\n",
      "Epoch 13: val_accuracy improved from 0.34700 to 0.35430, saving model to checkpoints/cnn_cifar100_best.h5\n",
      "1250/1250 [==============================] - 104s 84ms/step - loss: 2.7457 - accuracy: 0.3273 - val_loss: 2.6572 - val_accuracy: 0.3543 - lr: 0.0050\n",
      "Epoch 14/50\n",
      "1250/1250 [==============================] - ETA: 0s - loss: 2.7219 - accuracy: 0.3342\n",
      "Epoch 14: val_accuracy did not improve from 0.35430\n",
      "1250/1250 [==============================] - 100s 80ms/step - loss: 2.7219 - accuracy: 0.3342 - val_loss: 2.7830 - val_accuracy: 0.3220 - lr: 0.0050\n",
      "Epoch 15/50\n",
      "1250/1250 [==============================] - ETA: 0s - loss: 2.7064 - accuracy: 0.3332\n",
      "Epoch 15: val_accuracy did not improve from 0.35430\n",
      "1250/1250 [==============================] - 99s 79ms/step - loss: 2.7064 - accuracy: 0.3332 - val_loss: 2.7766 - val_accuracy: 0.3212 - lr: 0.0050\n",
      "Epoch 16/50\n",
      "1250/1250 [==============================] - ETA: 0s - loss: 2.6775 - accuracy: 0.3402\n",
      "Epoch 16: val_accuracy did not improve from 0.35430\n",
      "\n",
      "Epoch 16: ReduceLROnPlateau reducing learning rate to 0.0024999999441206455.\n",
      "1250/1250 [==============================] - 105s 84ms/step - loss: 2.6775 - accuracy: 0.3402 - val_loss: 2.7617 - val_accuracy: 0.3210 - lr: 0.0050\n",
      "Epoch 17/50\n",
      "1250/1250 [==============================] - ETA: 0s - loss: 2.6265 - accuracy: 0.3485\n",
      "Epoch 17: val_accuracy improved from 0.35430 to 0.36240, saving model to checkpoints/cnn_cifar100_best.h5\n",
      "1250/1250 [==============================] - 98s 79ms/step - loss: 2.6265 - accuracy: 0.3485 - val_loss: 2.5963 - val_accuracy: 0.3624 - lr: 0.0025\n",
      "Epoch 18/50\n",
      "1250/1250 [==============================] - ETA: 0s - loss: 2.6114 - accuracy: 0.3525\n",
      "Epoch 18: val_accuracy improved from 0.36240 to 0.37970, saving model to checkpoints/cnn_cifar100_best.h5\n",
      "1250/1250 [==============================] - 98s 78ms/step - loss: 2.6114 - accuracy: 0.3525 - val_loss: 2.5343 - val_accuracy: 0.3797 - lr: 0.0025\n",
      "Epoch 19/50\n",
      "1250/1250 [==============================] - ETA: 0s - loss: 2.5946 - accuracy: 0.3589\n",
      "Epoch 19: val_accuracy did not improve from 0.37970\n",
      "1250/1250 [==============================] - 99s 79ms/step - loss: 2.5946 - accuracy: 0.3589 - val_loss: 2.5682 - val_accuracy: 0.3597 - lr: 0.0025\n",
      "Epoch 20/50\n",
      "1250/1250 [==============================] - ETA: 0s - loss: 2.5793 - accuracy: 0.3588\n",
      "Epoch 20: val_accuracy did not improve from 0.37970\n",
      "1250/1250 [==============================] - 98s 79ms/step - loss: 2.5793 - accuracy: 0.3588 - val_loss: 2.5211 - val_accuracy: 0.3771 - lr: 0.0025\n",
      "Epoch 21/50\n",
      "1250/1250 [==============================] - ETA: 0s - loss: 2.5687 - accuracy: 0.3621\n",
      "Epoch 21: val_accuracy did not improve from 0.37970\n",
      "\n",
      "Epoch 21: ReduceLROnPlateau reducing learning rate to 0.0012499999720603228.\n",
      "1250/1250 [==============================] - 99s 79ms/step - loss: 2.5687 - accuracy: 0.3621 - val_loss: 2.5375 - val_accuracy: 0.3682 - lr: 0.0025\n",
      "Epoch 22/50\n",
      "1250/1250 [==============================] - ETA: 0s - loss: 2.5355 - accuracy: 0.3698\n",
      "Epoch 22: val_accuracy improved from 0.37970 to 0.38530, saving model to checkpoints/cnn_cifar100_best.h5\n",
      "1250/1250 [==============================] - 98s 79ms/step - loss: 2.5355 - accuracy: 0.3698 - val_loss: 2.4704 - val_accuracy: 0.3853 - lr: 0.0012\n",
      "Epoch 23/50\n",
      "1250/1250 [==============================] - ETA: 0s - loss: 2.5292 - accuracy: 0.3698\n",
      "Epoch 23: val_accuracy improved from 0.38530 to 0.39830, saving model to checkpoints/cnn_cifar100_best.h5\n",
      "1250/1250 [==============================] - 99s 79ms/step - loss: 2.5292 - accuracy: 0.3698 - val_loss: 2.4151 - val_accuracy: 0.3983 - lr: 0.0012\n",
      "Epoch 24/50\n",
      "1250/1250 [==============================] - ETA: 0s - loss: 2.5224 - accuracy: 0.3713\n",
      "Epoch 24: val_accuracy did not improve from 0.39830\n",
      "1250/1250 [==============================] - 104s 83ms/step - loss: 2.5224 - accuracy: 0.3713 - val_loss: 2.4830 - val_accuracy: 0.3813 - lr: 0.0012\n",
      "Epoch 25/50\n",
      "1250/1250 [==============================] - ETA: 0s - loss: 2.5143 - accuracy: 0.3728\n",
      "Epoch 25: val_accuracy did not improve from 0.39830\n",
      "1250/1250 [==============================] - 126s 101ms/step - loss: 2.5143 - accuracy: 0.3728 - val_loss: 2.4323 - val_accuracy: 0.3946 - lr: 0.0012\n",
      "Epoch 26/50\n",
      "1250/1250 [==============================] - ETA: 0s - loss: 2.5051 - accuracy: 0.3742\n",
      "Epoch 26: val_accuracy did not improve from 0.39830\n",
      "\n",
      "Epoch 26: ReduceLROnPlateau reducing learning rate to 0.0006249999860301614.\n",
      "1250/1250 [==============================] - 125s 100ms/step - loss: 2.5051 - accuracy: 0.3742 - val_loss: 2.5328 - val_accuracy: 0.3718 - lr: 0.0012\n",
      "Epoch 27/50\n",
      "1250/1250 [==============================] - ETA: 0s - loss: 2.4936 - accuracy: 0.3795\n",
      "Epoch 27: val_accuracy did not improve from 0.39830\n",
      "1250/1250 [==============================] - 125s 100ms/step - loss: 2.4936 - accuracy: 0.3795 - val_loss: 2.4311 - val_accuracy: 0.3889 - lr: 6.2500e-04\n",
      "Epoch 28/50\n",
      "1250/1250 [==============================] - ETA: 0s - loss: 2.4801 - accuracy: 0.3802Restoring model weights from the end of the best epoch: 23.\n",
      "\n",
      "Epoch 28: val_accuracy did not improve from 0.39830\n",
      "1250/1250 [==============================] - 112s 89ms/step - loss: 2.4801 - accuracy: 0.3802 - val_loss: 2.4378 - val_accuracy: 0.3924 - lr: 6.2500e-04\n",
      "Epoch 28: early stopping\n"
     ]
    }
   ],
   "source": [
    "history = model.fit(\n",
    "    train_generator,\n",
    "    epochs=50,\n",
    "    validation_data=val_generator,\n",
    "    callbacks=[early_stop, checkpoint_cb, reduce_lr],\n",
    "    verbose=1\n",
    ")"
   ]
  },
  {
   "cell_type": "markdown",
   "id": "e7566cc9-1d0f-4b37-abda-d04576b492f0",
   "metadata": {},
   "source": [
    "## 🧠 Conclusiones del modelo mejorado\n",
    "\n",
    "Después de aplicar técnicas de mejora como **data augmentation**, **dropout**, y **batch normalization**, el modelo mostró una mejora significativa en su capacidad de generalización.\n",
    "\n",
    "---\n",
    "\n",
    "### ✅ Comparación con el modelo base\n",
    "\n",
    "| Métrica                 | Modelo Base | Modelo Mejorado |\n",
    "|-------------------------|-------------|------------------|\n",
    "| **Train Accuracy**      | 59.2%       | ~50.2%           |\n",
    "| **Validation Accuracy** | 35.1%       | **51.6%** ✅     |\n",
    "| **Test Accuracy**       | ~35.1%      | *(por evaluar)*  |\n",
    "\n",
    "- La **precisión en validación aumentó en +16 puntos**, lo que muestra un modelo más robusto frente a datos no vistos.\n",
    "- Aunque el entrenamiento fue más lento, se evitó el *overfitting* gracias a las estrategias aplicadas.\n",
    "- El modelo base se sobreajustó, mientras que este modelo mantiene curvas más equilibradas.\n",
    "\n"
   ]
  },
  {
   "cell_type": "code",
   "execution_count": 10,
   "id": "ac3a8c8a-13fd-4b03-ae18-7f12e225d007",
   "metadata": {},
   "outputs": [
    {
     "name": "stdout",
     "output_type": "stream",
     "text": [
      "  1/313 [..............................] - ETA: 10s - loss: 1.5233 - accuracy: 0.7188"
     ]
    },
    {
     "name": "stderr",
     "output_type": "stream",
     "text": [
      "2025-03-31 18:05:34.795948: W external/local_tsl/tsl/framework/cpu_allocator_impl.cc:83] Allocation of 122880000 exceeds 10% of free system memory.\n"
     ]
    },
    {
     "name": "stdout",
     "output_type": "stream",
     "text": [
      "313/313 [==============================] - 3s 10ms/step - loss: 1.7097 - accuracy: 0.5382\n",
      "🔍 Test accuracy: 0.5382\n",
      "📉 Test loss: 1.7097\n"
     ]
    }
   ],
   "source": [
    "test_loss, test_accuracy = model.evaluate(x_test, y_test_cat)\n",
    "print(f\"🔍 Test accuracy: {test_accuracy:.4f}\")\n",
    "print(f\"📉 Test loss: {test_loss:.4f}\")"
   ]
  },
  {
   "cell_type": "markdown",
   "id": "66edc569-b725-485a-8531-1b03baa0acc7",
   "metadata": {},
   "source": [
    "## 🧪 7. Evaluación en el conjunto de prueba\n",
    "\n",
    "Evaluamos el rendimiento final del modelo usando el conjunto de datos de prueba no visto durante el entrenamiento ni la validación.\n"
   ]
  },
  {
   "cell_type": "markdown",
   "id": "6ba2d52a-678d-44bc-93c9-88910854b0a1",
   "metadata": {},
   "source": [
    "## 📈 6. Visualización del rendimiento\n",
    "\n",
    "Graficamos las métricas de pérdida y precisión durante las épocas de entrenamiento para evaluar cómo se comporta el modelo y si las mejoras surtieron efecto."
   ]
  },
  {
   "cell_type": "code",
   "execution_count": 18,
   "id": "1e5da709-dec3-4582-8140-43320b8a1709",
   "metadata": {},
   "outputs": [],
   "source": [
    "import matplotlib.pyplot as plt\n",
    "\n",
    "def plot_history(hist):\n",
    "    plt.figure(figsize=(14, 5))\n",
    "\n",
    "    # Accuracy\n",
    "    plt.subplot(1, 2, 1)\n",
    "    plt.plot(hist.history['accuracy'], label='Entrenamiento')\n",
    "    plt.plot(hist.history['val_accuracy'], label='Validación')\n",
    "    plt.title('Precisión')\n",
    "    plt.xlabel('Épocas')\n",
    "    plt.ylabel('Accuracy')\n",
    "    plt.legend()\n",
    "\n",
    "    # Loss\n",
    "    plt.subplot(1, 2, 2)\n",
    "    plt.plot(hist.history['loss'], label='Entrenamiento')\n",
    "    plt.plot(hist.history['val_loss'], label='Validación')\n",
    "    plt.title('Pérdida')\n",
    "    plt.xlabel('Épocas')\n",
    "    plt.ylabel('Loss')\n",
    "    plt.legend()\n",
    "\n",
    "    plt.tight_layout()\n",
    "    plt.show()"
   ]
  },
  {
   "cell_type": "code",
   "execution_count": 19,
   "id": "b8686ebc-795a-449a-b58f-afaf0df9f1ae",
   "metadata": {},
   "outputs": [
    {
     "data": {
      "image/png": "[encoded data removed]",
      "text/plain": [
       "<Figure size 1400x500 with 2 Axes>"
      ]
     },
     "metadata": {},
     "output_type": "display_data"
    }
   ],
   "source": [
    "plot_history(history)"
   ]
  },
  {
   "cell_type": "markdown",
   "id": "4bb55cc0-1411-49ee-97c2-e102f9d6fdc0",
   "metadata": {},
   "source": [
    "## 📈 Visualización de rendimiento final\n",
    "\n",
    "Las curvas de precisión y pérdida muestran que el modelo mejorado:\n",
    "- Aprendió de forma progresiva y estable durante todas las épocas.\n",
    "- No presentó overfitting, gracias a las técnicas aplicadas (data augmentation, dropout, batch normalization).\n",
    "- Superó claramente al modelo base, alcanzando más de **50% de precisión en validación y prueba**, lo cual es un resultado muy competitivo para CIFAR-100.\n",
    "\n",
    "📌 **Conclusión:** Estamos listos para explorar técnicas más avanzadas como **transfer learning**, o comenzar con una interfaz de despliegue.\n",
    "\n",
    "---\n"
   ]
  },
  {
   "cell_type": "code",
   "execution_count": null,
   "id": "cac8f1d0-173e-4bcf-8894-f20be0e38914",
   "metadata": {},
   "outputs": [],
   "source": []
  }
 ],
 "metadata": {
  "kernelspec": {
   "display_name": "Python 3 (ipykernel)",
   "language": "python",
   "name": "python3"
  },
  "language_info": {
   "codemirror_mode": {
    "name": "ipython",
    "version": 3
   },
   "file_extension": ".py",
   "mimetype": "text/x-python",
   "name": "python",
   "nbconvert_exporter": "python",
   "pygments_lexer": "ipython3",
   "version": "3.10.17"
  }
 },
 "nbformat": 4,
 "nbformat_minor": 5
}
