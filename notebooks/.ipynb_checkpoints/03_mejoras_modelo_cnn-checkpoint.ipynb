{
 "cells": [
  {
   "cell_type": "markdown",
   "id": "9be53922-535f-497a-8b0a-98f866b8d6ce",
   "metadata": {},
   "source": [
    "# 🛠️ Mejora del modelo CNN con Data Augmentation y Regularización\n",
    "\n",
    "**Notebook 03 – Mejora del modelo base**\n",
    "\n",
    "En este notebook aplicamos técnicas para mejorar el rendimiento del modelo CNN:\n",
    "- Aumento de datos (data augmentation)\n",
    "- Normalización por lotes (Batch Normalization)\n",
    "- Regularización con Dropout\n",
    "- Detención temprana del entrenamiento (EarlyStopping)\n",
    "\n",
    "---\n"
   ]
  },
  {
   "cell_type": "code",
   "execution_count": 3,
   "id": "92980a74-b795-46fe-9204-f2a992019414",
   "metadata": {},
   "outputs": [],
   "source": [
    "from tensorflow.keras.datasets import cifar100\n",
    "from tensorflow.keras.utils import to_categorical\n",
    "\n",
    "# Cargar datos\n",
    "(x_train, y_train), (x_test, y_test) = cifar100.load_data(label_mode='fine')\n",
    "\n",
    "# Normalizar\n",
    "x_train = x_train.astype('float32') / 255.0\n",
    "x_test = x_test.astype('float32') / 255.0\n",
    "\n",
    "# One-hot encoding\n",
    "y_train_cat = to_categorical(y_train, 100)\n",
    "y_test_cat = to_categorical(y_test, 100)\n"
   ]
  },
  {
   "cell_type": "code",
   "execution_count": null,
   "id": "2f3c6c96-bf46-487a-9312-f845ffa3d084",
   "metadata": {},
   "outputs": [],
   "source": []
  }
 ],
 "metadata": {
  "kernelspec": {
   "display_name": "Python 3 (ipykernel)",
   "language": "python",
   "name": "python3"
  },
  "language_info": {
   "codemirror_mode": {
    "name": "ipython",
    "version": 3
   },
   "file_extension": ".py",
   "mimetype": "text/x-python",
   "name": "python",
   "nbconvert_exporter": "python",
   "pygments_lexer": "ipython3",
   "version": "3.10.16"
  }
 },
 "nbformat": 4,
 "nbformat_minor": 5
}
