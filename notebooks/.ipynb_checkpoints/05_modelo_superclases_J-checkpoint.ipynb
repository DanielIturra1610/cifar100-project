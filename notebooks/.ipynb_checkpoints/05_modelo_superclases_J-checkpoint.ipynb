{
 "cells": [
  {
   "cell_type": "markdown",
   "id": "83c1fa8a",
   "metadata": {},
   "source": [
    "# Transfer Learning con Inception-Style CNN – CIFAR-100\n",
    "\n",
    "### En este notebook construiremos un modelo convolucional basado en Inception Blocks para clasificar imágenes del dataset CIFAR-100 usando sus 20 superclases."
   ]
  },
  {
   "cell_type": "markdown",
   "id": "ed83fc9b",
   "metadata": {},
   "source": [
    "## 🧠 Importar librerías necesarias"
   ]
  },
  {
   "cell_type": "code",
   "execution_count": 1,
   "id": "4c08a2a0",
   "metadata": {},
   "outputs": [
    {
     "ename": "ModuleNotFoundError",
     "evalue": "No module named 'tensorflow'",
     "output_type": "error",
     "traceback": [
      "\u001b[1;31m---------------------------------------------------------------------------\u001b[0m",
      "\u001b[1;31mModuleNotFoundError\u001b[0m                       Traceback (most recent call last)",
      "Cell \u001b[1;32mIn[1], line 1\u001b[0m\n\u001b[1;32m----> 1\u001b[0m \u001b[38;5;28;01mfrom\u001b[39;00m \u001b[38;5;21;01mtensorflow\u001b[39;00m\u001b[38;5;21;01m.\u001b[39;00m\u001b[38;5;21;01mkeras\u001b[39;00m\u001b[38;5;21;01m.\u001b[39;00m\u001b[38;5;21;01mdatasets\u001b[39;00m \u001b[38;5;28;01mimport\u001b[39;00m cifar100\n\u001b[0;32m      2\u001b[0m \u001b[38;5;28;01mfrom\u001b[39;00m \u001b[38;5;21;01mtensorflow\u001b[39;00m\u001b[38;5;21;01m.\u001b[39;00m\u001b[38;5;21;01mkeras\u001b[39;00m\u001b[38;5;21;01m.\u001b[39;00m\u001b[38;5;21;01mutils\u001b[39;00m \u001b[38;5;28;01mimport\u001b[39;00m to_categorical\n\u001b[0;32m      3\u001b[0m \u001b[38;5;28;01mfrom\u001b[39;00m \u001b[38;5;21;01mtensorflow\u001b[39;00m\u001b[38;5;21;01m.\u001b[39;00m\u001b[38;5;21;01mkeras\u001b[39;00m\u001b[38;5;21;01m.\u001b[39;00m\u001b[38;5;21;01mpreprocessing\u001b[39;00m\u001b[38;5;21;01m.\u001b[39;00m\u001b[38;5;21;01mimage\u001b[39;00m \u001b[38;5;28;01mimport\u001b[39;00m ImageDataGenerator\n",
      "\u001b[1;31mModuleNotFoundError\u001b[0m: No module named 'tensorflow'"
     ]
    }
   ],
   "source": [
    "from tensorflow.keras.datasets import cifar100\n",
    "from tensorflow.keras.utils import to_categorical\n",
    "from tensorflow.keras.preprocessing.image import ImageDataGenerator\n",
    "from tensorflow.keras import layers, models, regularizers\n",
    "from tensorflow.keras.optimizers import SGD\n",
    "from tensorflow.keras.callbacks import ModelCheckpoint, EarlyStopping, ReduceLROnPlateau"
   ]
  },
  {
   "cell_type": "markdown",
   "id": "efb357b1",
   "metadata": {},
   "source": [
    "## 📦 Cargar y preparar los datos\n",
    "Cargar imágenes y etiquetas de CIFAR-100, usando superclases (20 clases)"
   ]
  },
  {
   "cell_type": "code",
   "execution_count": null,
   "id": "fc83667d",
   "metadata": {},
   "outputs": [],
   "source": [
    "(x_train, y_train), (x_test, y_test) = cifar100.load_data(label_mode='coarse')"
   ]
  },
  {
   "cell_type": "markdown",
   "id": "7f28f47f",
   "metadata": {},
   "source": [
    "Normalización de imágenes: valores de píxeles a rango [0,1]"
   ]
  },
  {
   "cell_type": "code",
   "execution_count": null,
   "id": "437e7bb8",
   "metadata": {},
   "outputs": [],
   "source": [
    "x_train = x_train.astype('float32') / 255.0\n",
    "x_test = x_test.astype('float32') / 255.0"
   ]
  },
  {
   "cell_type": "markdown",
   "id": "3d8656ba",
   "metadata": {},
   "source": [
    "Conversión de etiquetas a codificación one-hot"
   ]
  },
  {
   "cell_type": "code",
   "execution_count": null,
   "id": "8cc9079e",
   "metadata": {},
   "outputs": [],
   "source": [
    "y_train_cat = to_categorical(y_train, 20)\n",
    "y_test_cat = to_categorical(y_test, 20)"
   ]
  },
  {
   "cell_type": "markdown",
   "id": "cd87791c",
   "metadata": {},
   "source": [
    "## 🔥 Aumentación de datos\n",
    "Crear generador de imágenes con transformaciones aleatorias para robustecer el entrenamiento"
   ]
  },
  {
   "cell_type": "code",
   "execution_count": null,
   "id": "0fad6686",
   "metadata": {},
   "outputs": [],
   "source": [
    "datagen = ImageDataGenerator(\n",
    "    rotation_range=20,\n",
    "    width_shift_range=0.2,\n",
    "    height_shift_range=0.2,\n",
    "    shear_range=0.1,\n",
    "    zoom_range=0.2,\n",
    "    horizontal_flip=True,\n",
    "    validation_split=0.2\n",
    ")"
   ]
  },
  {
   "cell_type": "markdown",
   "id": "8ba16755",
   "metadata": {},
   "source": [
    "Crear generadores para entrenamiento y validación"
   ]
  },
  {
   "cell_type": "code",
   "execution_count": null,
   "id": "b7d757d1",
   "metadata": {},
   "outputs": [],
   "source": [
    "train_generator = datagen.flow(x_train, y_train_cat, batch_size=32, subset='training')\n",
    "val_generator = datagen.flow(x_train, y_train_cat, batch_size=32, subset='validation')"
   ]
  },
  {
   "cell_type": "markdown",
   "id": "dc216b2b",
   "metadata": {},
   "source": [
    "## 🧱 Definición de la Arquitectura CNN con Inception Blocks"
   ]
  },
  {
   "cell_type": "code",
   "execution_count": null,
   "id": "1b41a148",
   "metadata": {},
   "outputs": [],
   "source": [
    "def inception_block(x, filters):\n",
    "    f1, f3, f5 = filters\n",
    "\n",
    "    path1 = layers.Conv2D(f1, (1, 1), padding='same', kernel_regularizer=regularizers.l2(1e-4))(x)\n",
    "    path1 = layers.LeakyReLU(alpha=0.1)(path1)\n",
    "\n",
    "    path2 = layers.Conv2D(f3, (1, 1), padding='same', kernel_regularizer=regularizers.l2(1e-4))(x)\n",
    "    path2 = layers.LeakyReLU(alpha=0.1)(path2)\n",
    "    path2 = layers.Conv2D(f3, (3, 3), padding='same', kernel_regularizer=regularizers.l2(1e-4))(path2)\n",
    "    path2 = layers.LeakyReLU(alpha=0.1)(path2)\n",
    "\n",
    "    path3 = layers.Conv2D(f5, (1, 1), padding='same', kernel_regularizer=regularizers.l2(1e-4))(x)\n",
    "    path3 = layers.LeakyReLU(alpha=0.1)(path3)\n",
    "    path3 = layers.Conv2D(f5, (5, 5), padding='same', kernel_regularizer=regularizers.l2(1e-4))(path3)\n",
    "    path3 = layers.LeakyReLU(alpha=0.1)(path3)\n",
    "\n",
    "    path4 = layers.MaxPooling2D((3, 3), strides=(1, 1), padding='same')(x)\n",
    "    path4 = layers.Conv2D(f1, (1, 1), padding='same', kernel_regularizer=regularizers.l2(1e-4))(path4)\n",
    "    path4 = layers.LeakyReLU(alpha=0.1)(path4)\n",
    "\n",
    "    return layers.concatenate([path1, path2, path3, path4], axis=-1)"
   ]
  },
  {
   "cell_type": "markdown",
   "id": "5d1034d8",
   "metadata": {},
   "source": [
    "## ⚙️ Construcción del modelo CNN"
   ]
  },
  {
   "cell_type": "code",
   "execution_count": null,
   "id": "2c5daeea",
   "metadata": {},
   "outputs": [],
   "source": [
    "input_layer = layers.Input(shape=(32, 32, 3))\n",
    "\n",
    "x = layers.Conv2D(32, (3, 3), padding='same', kernel_regularizer=regularizers.l2(1e-4))(input_layer)\n",
    "x = layers.LeakyReLU(alpha=0.1)(x)\n",
    "x = layers.BatchNormalization()(x)\n",
    "x = layers.Conv2D(32, (3, 3), kernel_regularizer=regularizers.l2(1e-4))(x)\n",
    "x = layers.LeakyReLU(alpha=0.1)(x)\n",
    "x = layers.BatchNormalization()(x)\n",
    "x = layers.MaxPooling2D((2, 2))(x)\n",
    "x = layers.Dropout(0.25)(x)\n",
    "\n",
    "x = inception_block(x, filters=(64, 96, 128))\n",
    "x = layers.BatchNormalization()(x)\n",
    "x = layers.MaxPooling2D((2, 2))(x)\n",
    "x = layers.Dropout(0.3)(x)\n",
    "\n",
    "x = inception_block(x, filters=(64, 96, 128))\n",
    "x = layers.BatchNormalization()(x)\n",
    "x = layers.MaxPooling2D((2, 2))(x)\n",
    "x = layers.Dropout(0.3)(x)\n",
    "\n",
    "x = layers.Conv2D(64, (3, 3), padding='same', kernel_regularizer=regularizers.l2(1e-4))(x)\n",
    "x = layers.LeakyReLU(alpha=0.1)(x)\n",
    "x = layers.BatchNormalization()(x)\n",
    "x = layers.MaxPooling2D((2, 2))(x)\n",
    "x = layers.Dropout(0.4)(x)\n",
    "\n",
    "x = layers.GlobalAveragePooling2D()(x)\n",
    "x = layers.Dense(256, kernel_regularizer=regularizers.l2(1e-4))(x)\n",
    "x = layers.LeakyReLU(alpha=0.1)(x)\n",
    "x = layers.BatchNormalization()(x)\n",
    "x = layers.Dropout(0.5)(x)\n",
    "\n",
    "output = layers.Dense(20, activation='softmax')(x)\n",
    "\n",
    "model = models.Model(inputs=input_layer, outputs=output)"
   ]
  },
  {
   "cell_type": "markdown",
   "id": "7e4d05bd",
   "metadata": {},
   "source": [
    "## ⚡ Compilación del modelo\n"
   ]
  },
  {
   "cell_type": "code",
   "execution_count": null,
   "id": "666b9741",
   "metadata": {},
   "outputs": [],
   "source": [
    "optimizer = SGD(learning_rate=1e-2, momentum=0.9, nesterov=True)\n",
    "model.compile(optimizer=optimizer, loss='categorical_crossentropy', metrics=['accuracy'])"
   ]
  },
  {
   "cell_type": "markdown",
   "id": "e7464f37",
   "metadata": {},
   "source": [
    "## 💾 Callbacks para entrenamiento\n"
   ]
  },
  {
   "cell_type": "code",
   "execution_count": null,
   "id": "615031ad",
   "metadata": {},
   "outputs": [],
   "source": [
    "early_stop = EarlyStopping(monitor='val_accuracy', patience=5, restore_best_weights=True, verbose=1)\n",
    "checkpoint_cb = ModelCheckpoint(filepath='checkpoints/cnn_cifar100_superclass_best.h5', monitor='val_accuracy', save_best_only=True, verbose=1)\n",
    "reduce_lr = ReduceLROnPlateau(monitor='val_accuracy', factor=0.5, patience=3, verbose=1, min_lr=1e-6)"
   ]
  },
  {
   "cell_type": "markdown",
   "id": "ae259ed2",
   "metadata": {},
   "source": [
    "## 🚀 Entrenamiento del modelo\n"
   ]
  },
  {
   "cell_type": "code",
   "execution_count": null,
   "id": "27cc2369",
   "metadata": {},
   "outputs": [],
   "source": [
    "history = model.fit(\n",
    "    train_generator,\n",
    "    epochs=50,\n",
    "    validation_data=val_generator,\n",
    "    callbacks=[early_stop, checkpoint_cb, reduce_lr],\n",
    "    verbose=1\n",
    ")"
   ]
  }
 ],
 "metadata": {
  "kernelspec": {
   "display_name": "Python 3",
   "language": "python",
   "name": "python3"
  },
  "language_info": {
   "codemirror_mode": {
    "name": "ipython",
    "version": 3
   },
   "file_extension": ".py",
   "mimetype": "text/x-python",
   "name": "python",
   "nbconvert_exporter": "python",
   "pygments_lexer": "ipython3",
   "version": "3.12.10"
  }
 },
 "nbformat": 4,
 "nbformat_minor": 5
}
