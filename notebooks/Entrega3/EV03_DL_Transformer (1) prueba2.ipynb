{
 "cells": [
  {
   "cell_type": "markdown",
   "id": "52413683",
   "metadata": {
    "id": "52413683"
   },
   "source": [
    "# Análisis de Negocio - Clasificación de Sentimientos en Reseñas de Películas con Transformer\n",
    "\n",
    "\n",
    "## 1. Carga y Preprocesamiento de Datos\n",
    "\n",
    "**Objetivo del Código**:  \n",
    "Cargar y preparar el conjunto de datos IMDB para el entrenamiento del modelo de clasificación de sentimientos."
   ]
  },
  {
   "cell_type": "code",
   "execution_count": null,
   "id": "9315416b",
   "metadata": {
    "colab": {
     "base_uri": "https://localhost:8080/"
    },
    "id": "9315416b",
    "outputId": "aa6af811-29ea-4063-a5e2-b822f7665cbe"
   },
   "outputs": [
    {
     "name": "stderr",
     "output_type": "stream",
     "text": [
      "2025-07-02 13:45:01.063012: I external/local_tsl/tsl/cuda/cudart_stub.cc:31] Could not find cuda drivers on your machine, GPU will not be used.\n",
      "2025-07-02 13:45:01.094673: E external/local_xla/xla/stream_executor/cuda/cuda_dnn.cc:9261] Unable to register cuDNN factory: Attempting to register factory for plugin cuDNN when one has already been registered\n",
      "2025-07-02 13:45:01.094712: E external/local_xla/xla/stream_executor/cuda/cuda_fft.cc:607] Unable to register cuFFT factory: Attempting to register factory for plugin cuFFT when one has already been registered\n",
      "2025-07-02 13:45:01.095683: E external/local_xla/xla/stream_executor/cuda/cuda_blas.cc:1515] Unable to register cuBLAS factory: Attempting to register factory for plugin cuBLAS when one has already been registered\n",
      "2025-07-02 13:45:01.100936: I external/local_tsl/tsl/cuda/cudart_stub.cc:31] Could not find cuda drivers on your machine, GPU will not be used.\n",
      "2025-07-02 13:45:01.102022: I tensorflow/core/platform/cpu_feature_guard.cc:182] This TensorFlow binary is optimized to use available CPU instructions in performance-critical operations.\n",
      "To enable the following instructions: AVX2 FMA, in other operations, rebuild TensorFlow with the appropriate compiler flags.\n",
      "2025-07-02 13:45:01.978488: W tensorflow/compiler/tf2tensorrt/utils/py_utils.cc:38] TF-TRT Warning: Could not find TensorRT\n"
     ]
    },
    {
     "name": "stdout",
     "output_type": "stream",
     "text": [
      "=== LOADING DATASET ===\n",
      "Downloading data from https://storage.googleapis.com/tensorflow/tf-keras-datasets/imdb.npz\n",
      "17464789/17464789 [==============================] - 1s 0us/step\n",
      "Training data shape: (25000, 256)\n",
      "Test data shape: (25000, 256)\n",
      "Sample labels: [1. 0. 0. 1. 0.]\n"
     ]
    }
   ],
   "source": [
    "import tensorflow as tf\n",
    "from tensorflow.keras.datasets import imdb\n",
    "from tensorflow.keras.preprocessing.sequence import pad_sequences\n",
    "import numpy as np\n",
    "\n",
    "print(\"=== LOADING DATASET ===\")\n",
    "\n",
    "# Parameters\n",
    "VOCAB_SIZE = 10000  # Top 10,000 most frequent words\n",
    "MAX_LEN = 256       # Maximum sequence length (truncate or pad to this length)\n",
    "EMBEDDING_DIM = 128\n",
    "BATCH_SIZE = 32\n",
    "\n",
    "# Load IMDB dataset\n",
    "(x_train, y_train), (x_test, y_test) = imdb.load_data(num_words=VOCAB_SIZE)\n",
    "\n",
    "# Pad sequences to have consistent length\n",
    "x_train = pad_sequences(x_train, maxlen=MAX_LEN, padding='post', truncating='post')\n",
    "x_test = pad_sequences(x_test, maxlen=MAX_LEN, padding='post', truncating='post')\n",
    "\n",
    "# Convert labels to float32 for compatibility with TF\n",
    "y_train = np.array(y_train, dtype=np.float32)\n",
    "y_test = np.array(y_test, dtype=np.float32)\n",
    "\n",
    "# Create TensorFlow Datasets\n",
    "train_dataset = tf.data.Dataset.from_tensor_slices((x_train, y_train))\n",
    "train_dataset = train_dataset.shuffle(buffer_size=1024).batch(BATCH_SIZE)\n",
    "\n",
    "val_dataset = tf.data.Dataset.from_tensor_slices((x_test, y_test))\n",
    "val_dataset = val_dataset.batch(BATCH_SIZE)\n",
    "\n",
    "# Print dataset info\n",
    "print(f\"Training data shape: {x_train.shape}\")\n",
    "print(f\"Test data shape: {x_test.shape}\")\n",
    "print(f\"Sample labels: {y_train[:5]}\")"
   ]
  },
  {
   "cell_type": "markdown",
   "id": "fb2bd597",
   "metadata": {},
   "source": [
    "**Explicación Técnica**:\n",
    "\n",
    "- Se importan bibliotecas esenciales como TensorFlow y NumPy.\n",
    "- Parámetros clave:\n",
    "  - Tamaño del vocabulario: `10,000` palabras más frecuentes.\n",
    "  - Longitud máxima de secuencia: `256` tokens.\n",
    "  - Dimensión de embedding: `128`.\n",
    "- Se carga el dataset IMDB (50,000 reseñas etiquetadas como positivas o negativas).\n",
    "- Se convierten las reseñas en secuencias numéricas y se normalizan a una longitud fija.\n",
    "- Se dividen en conjuntos de entrenamiento y prueba.\n",
    "- Se convierten a objetos `tf.data.Dataset` para procesamiento eficiente."
   ]
  },
  {
   "cell_type": "markdown",
   "id": "724f161a",
   "metadata": {
    "id": "724f161a"
   },
   "source": [
    "## 2. Arquitectura del Modelo Transformer"
   ]
  },
  {
   "cell_type": "markdown",
   "id": "7e8b1016",
   "metadata": {},
   "source": [
    "### 2.1 `TransformerBlock`\n",
    "- Implementa autoatención multi-cabeza (`MultiHeadAttention`).\n",
    "- Incluye:\n",
    "  - Normalización por capas (`LayerNormalization`).\n",
    "  - Red feed-forward (`Dense`).\n",
    "  - Regularización con `Dropout`.\n",
    "\n",
    "### 2.2 `TokenAndPositionEmbedding`\n",
    "- Combina:\n",
    "  - Embeddings de tokens.\n",
    "  - Embeddings posicionales para capturar el orden.\n",
    "\n",
    "**Parámetros Clave**:\n",
    "\n",
    "- Dimensión de embedding: `128`\n",
    "- Número de cabezas de atención: `4`\n",
    "- Dimensión del feed-forward: `128`"
   ]
  },
  {
   "cell_type": "code",
   "execution_count": null,
   "id": "cd999149",
   "metadata": {
    "id": "cd999149"
   },
   "outputs": [],
   "source": [
    "class TransformerBlock(tf.keras.layers.Layer):\n",
    "    def __init__(self, embed_dim, num_heads, ff_dim, rate=0.1):\n",
    "        super(TransformerBlock, self).__init__()\n",
    "        self.att = tf.keras.layers.MultiHeadAttention(num_heads=num_heads, key_dim=embed_dim)\n",
    "        self.ffn = tf.keras.Sequential([\n",
    "            tf.keras.layers.Dense(ff_dim, activation=\"relu\"),\n",
    "            tf.keras.layers.Dense(embed_dim),\n",
    "        ])\n",
    "        self.layernorm1 = tf.keras.layers.LayerNormalization(epsilon=1e-6)\n",
    "        self.layernorm2 = tf.keras.layers.LayerNormalization(epsilon=1e-6)\n",
    "        self.dropout1 = tf.keras.layers.Dropout(rate)\n",
    "        self.dropout2 = tf.keras.layers.Dropout(rate)\n",
    "\n",
    "    def call(self, inputs, training=False):  # 👈 IMPORTANTE\n",
    "        attn_output = self.att(inputs, inputs)\n",
    "        attn_output = self.dropout1(attn_output, training=training)\n",
    "        out1 = self.layernorm1(inputs + attn_output)\n",
    "        ffn_output = self.ffn(out1)\n",
    "        ffn_output = self.dropout2(ffn_output, training=training)\n",
    "        return self.layernorm2(out1 + ffn_output)\n",
    "\n",
    "class TokenAndPositionEmbedding(tf.keras.layers.Layer):\n",
    "    def __init__(self, maxlen, vocab_size, embed_dim):\n",
    "        super(TokenAndPositionEmbedding, self).__init__()\n",
    "        self.token_emb = tf.keras.layers.Embedding(input_dim=vocab_size, output_dim=embed_dim)\n",
    "        self.pos_emb = tf.keras.layers.Embedding(input_dim=maxlen, output_dim=embed_dim)\n",
    "\n",
    "    def call(self, x):\n",
    "        maxlen = tf.shape(x)[-1]\n",
    "        positions = tf.range(start=0, limit=maxlen, delta=1)\n",
    "        positions = self.pos_emb(positions)\n",
    "        x = self.token_emb(x)\n",
    "        return x + positions"
   ]
  },
  {
   "cell_type": "markdown",
   "id": "4453c111-3042-4d61-8d55-545406bbd2a9",
   "metadata": {
    "id": "4453c111-3042-4d61-8d55-545406bbd2a9"
   },
   "source": [
    "## 3. Construcción y Compilación del Modelo"
   ]
  },
  {
   "cell_type": "markdown",
   "id": "f5424315",
   "metadata": {},
   "source": [
    "## 3. Construcción y Compilación del Modelo\n",
    "\n",
    "**Estructura General**:\n",
    "\n",
    "1. Entrada: secuencias de `256` tokens.\n",
    "2. Embedding con posiciones.\n",
    "3. Bloque Transformer.\n",
    "4. Capa de `GlobalAveragePooling1D`.\n",
    "5. Capas `Dense` para clasificación final.\n",
    "\n",
    "**Configuración de Entrenamiento**:\n",
    "\n",
    "- Optimizador: `Adam (learning_rate=1e-4)`\n",
    "- Función de pérdida: `BinaryCrossentropy`\n",
    "- Métrica: `Accuracy`\n",
    "\n",
    "**Resumen del Modelo**:\n",
    "\n",
    "- Total de parámetros: `~1.62M`\n",
    "- Todos entrenables."
   ]
  },
  {
   "cell_type": "code",
   "execution_count": null,
   "id": "19fc7db2",
   "metadata": {
    "colab": {
     "base_uri": "https://localhost:8080/",
     "height": 433
    },
    "id": "19fc7db2",
    "outputId": "f13c62e9-d7af-44cc-e839-50ac02570ab5"
   },
   "outputs": [
    {
     "name": "stdout",
     "output_type": "stream",
     "text": [
      "Model: \"model\"\n",
      "_________________________________________________________________\n",
      " Layer (type)                Output Shape              Param #   \n",
      "=================================================================\n",
      " input_1 (InputLayer)        [(None, 256)]             0         \n",
      "                                                                 \n",
      " token_and_position_embeddi  (None, 256, 128)          1312768   \n",
      " ng (TokenAndPositionEmbedd                                      \n",
      " ing)                                                            \n",
      "                                                                 \n",
      " transformer_block (Transfo  (None, 256, 128)          297344    \n",
      " rmerBlock)                                                      \n",
      "                                                                 \n",
      " global_average_pooling1d (  (None, 128)               0         \n",
      " GlobalAveragePooling1D)                                         \n",
      "                                                                 \n",
      " dropout_2 (Dropout)         (None, 128)               0         \n",
      "                                                                 \n",
      " dense_2 (Dense)             (None, 64)                8256      \n",
      "                                                                 \n",
      " dropout_3 (Dropout)         (None, 64)                0         \n",
      "                                                                 \n",
      " dense_3 (Dense)             (None, 1)                 65        \n",
      "                                                                 \n",
      "=================================================================\n",
      "Total params: 1618433 (6.17 MB)\n",
      "Trainable params: 1618433 (6.17 MB)\n",
      "Non-trainable params: 0 (0.00 Byte)\n",
      "_________________________________________________________________\n"
     ]
    }
   ],
   "source": [
    "def build_transformer_model():\n",
    "    # Input layer\n",
    "    inputs = tf.keras.layers.Input(shape=(MAX_LEN,))\n",
    "\n",
    "    # Embedding layer\n",
    "    embedding_layer = TokenAndPositionEmbedding(MAX_LEN, VOCAB_SIZE, EMBEDDING_DIM)\n",
    "    x = embedding_layer(inputs)\n",
    "\n",
    "    # Transformer blocks\n",
    "    transformer_block = TransformerBlock(EMBEDDING_DIM, num_heads=4, ff_dim=128)\n",
    "    x = transformer_block(x)\n",
    "\n",
    "    # Global average pooling and dense layers\n",
    "    x = tf.keras.layers.GlobalAveragePooling1D()(x)\n",
    "    x = tf.keras.layers.Dropout(0.2)(x)\n",
    "    x = tf.keras.layers.Dense(64, activation=\"relu\")(x)\n",
    "    x = tf.keras.layers.Dropout(0.1)(x)\n",
    "\n",
    "    # Output layer for binary classification\n",
    "    outputs = tf.keras.layers.Dense(1, activation=\"sigmoid\")(x)\n",
    "\n",
    "    model = tf.keras.Model(inputs=inputs, outputs=outputs)\n",
    "\n",
    "    return model\n",
    "\n",
    "# Build and compile the model\n",
    "model = build_transformer_model()\n",
    "\n",
    "model.compile(\n",
    "    optimizer=tf.keras.optimizers.Adam(learning_rate=1e-4),\n",
    "    loss=\"binary_crossentropy\",\n",
    "    metrics=[\"accuracy\"]\n",
    ")\n",
    "\n",
    "model.summary()"
   ]
  },
  {
   "cell_type": "markdown",
   "id": "464571f0-84a8-46dd-88cf-142207052369",
   "metadata": {
    "id": "464571f0-84a8-46dd-88cf-142207052369"
   },
   "source": [
    "## 4. Entrenamiento del Modelo"
   ]
  },
  {
   "cell_type": "markdown",
   "id": "7a459d3d",
   "metadata": {},
   "source": [
    "**Estrategia de Entrenamiento**:\n",
    "\n",
    "- Uso de `Callbacks`:\n",
    "  - `EarlyStopping(patience=3)`\n",
    "  - `ReduceLROnPlateau`\n",
    "- Número de épocas ajustado automáticamente.\n",
    "\n",
    "**Rendimiento**:\n",
    "\n",
    "- Precisión en entrenamiento: `~96.2%`\n",
    "- Precisión en validación: `~86.3%`\n",
    "- Evidencia de **sobreajuste**."
   ]
  },
  {
   "cell_type": "code",
   "execution_count": null,
   "id": "b11f6f46",
   "metadata": {
    "colab": {
     "base_uri": "https://localhost:8080/"
    },
    "id": "b11f6f46",
    "outputId": "0f0d4265-18bf-4d7b-acc2-4d7df0f56593",
    "scrolled": true
   },
   "outputs": [
    {
     "name": "stdout",
     "output_type": "stream",
     "text": [
      "Epoch 1/15\n",
      "782/782 [==============================] - 449s 572ms/step - loss: 0.5085 - accuracy: 0.7263 - val_loss: 0.3216 - val_accuracy: 0.8612 - lr: 1.0000e-04\n",
      "Epoch 2/15\n",
      "782/782 [==============================] - 487s 623ms/step - loss: 0.2682 - accuracy: 0.8899 - val_loss: 0.3034 - val_accuracy: 0.8701 - lr: 1.0000e-04\n",
      "Epoch 3/15\n",
      "782/782 [==============================] - 451s 577ms/step - loss: 0.2131 - accuracy: 0.9168 - val_loss: 0.3173 - val_accuracy: 0.8699 - lr: 1.0000e-04\n",
      "Epoch 4/15\n",
      "782/782 [==============================] - 418s 535ms/step - loss: 0.1767 - accuracy: 0.9358 - val_loss: 0.3424 - val_accuracy: 0.8610 - lr: 1.0000e-04\n",
      "Epoch 5/15\n",
      "782/782 [==============================] - 436s 558ms/step - loss: 0.1233 - accuracy: 0.9620 - val_loss: 0.3817 - val_accuracy: 0.8630 - lr: 1.0000e-05\n"
     ]
    }
   ],
   "source": [
    "from tensorflow.keras.callbacks import EarlyStopping, ReduceLROnPlateau\n",
    "\n",
    "# Callbacks\n",
    "callbacks = [\n",
    "    EarlyStopping(patience=3, restore_best_weights=True),\n",
    "    ReduceLROnPlateau(factor=0.1, patience=2)\n",
    "]\n",
    "\n",
    "# Train the model\n",
    "history = model.fit(\n",
    "    train_dataset,\n",
    "    validation_data=val_dataset,\n",
    "    epochs=15,\n",
    "    callbacks=callbacks\n",
    ")"
   ]
  },
  {
   "cell_type": "markdown",
   "id": "e03bd641-4cfc-417e-bf8c-9254da7a89a0",
   "metadata": {
    "id": "e03bd641-4cfc-417e-bf8c-9254da7a89a0"
   },
   "source": [
    "## 5. Evaluación del Modelo"
   ]
  },
  {
   "cell_type": "code",
   "execution_count": 6,
   "id": "41856977",
   "metadata": {
    "id": "41856977"
   },
   "outputs": [
    {
     "data": {
      "image/png": "[encoded data removed]",
      "text/plain": [
       "<Figure size 1200x400 with 2 Axes>"
      ]
     },
     "metadata": {},
     "output_type": "display_data"
    },
    {
     "name": "stdout",
     "output_type": "stream",
     "text": [
      "782/782 [==============================] - 134s 172ms/step - loss: 0.3034 - accuracy: 0.8701\n",
      "\n",
      "Test Accuracy: 0.8701\n",
      "Test Loss: 0.3034\n"
     ]
    }
   ],
   "source": [
    "import matplotlib.pyplot as plt\n",
    "\n",
    "# Plot training history\n",
    "def plot_history(history):\n",
    "    plt.figure(figsize=(12, 4))\n",
    "\n",
    "    # Plot accuracy\n",
    "    plt.subplot(1, 2, 1)\n",
    "    plt.plot(history.history['accuracy'], label='Train Accuracy')\n",
    "    plt.plot(history.history['val_accuracy'], label='Validation Accuracy')\n",
    "    plt.title('Model Accuracy')\n",
    "    plt.ylabel('Accuracy')\n",
    "    plt.xlabel('Epoch')\n",
    "    plt.legend()\n",
    "\n",
    "    # Plot loss\n",
    "    plt.subplot(1, 2, 2)\n",
    "    plt.plot(history.history['loss'], label='Train Loss')\n",
    "    plt.plot(history.history['val_loss'], label='Validation Loss')\n",
    "    plt.title('Model Loss')\n",
    "    plt.ylabel('Loss')\n",
    "    plt.xlabel('Epoch')\n",
    "    plt.legend()\n",
    "\n",
    "    plt.tight_layout()\n",
    "    plt.show()\n",
    "\n",
    "plot_history(history)\n",
    "\n",
    "# Evaluate on test set\n",
    "test_loss, test_acc = model.evaluate(val_dataset)\n",
    "print(f\"\\nTest Accuracy: {test_acc:.4f}\")\n",
    "print(f\"Test Loss: {test_loss:.4f}\")"
   ]
  },
  {
   "cell_type": "markdown",
   "id": "2dfc2f8a-2dbf-4142-97bf-b0a8000331da",
   "metadata": {},
   "source": [
    "**Resultados Observados**:\n",
    "\n",
    "- Precisión en conjunto de prueba: `~86%`\n",
    "- Brecha de rendimiento entrenamiento vs validación indica sobreajuste.\n",
    "- La pérdida de validación aumenta mientras la de entrenamiento sigue bajando."
   ]
  }
 ],
 "metadata": {
  "colab": {
   "provenance": []
  },
  "kernelspec": {
   "display_name": "Python 3 (ipykernel)",
   "language": "python",
   "name": "python3"
  },
  "language_info": {
   "codemirror_mode": {
    "name": "ipython",
    "version": 3
   },
   "file_extension": ".py",
   "mimetype": "text/x-python",
   "name": "python",
   "nbconvert_exporter": "python",
   "pygments_lexer": "ipython3",
   "version": "3.10.18"
  }
 },
 "nbformat": 4,
 "nbformat_minor": 5
}
