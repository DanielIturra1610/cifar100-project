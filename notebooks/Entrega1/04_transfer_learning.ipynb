{
 "cells": [
  {
   "cell_type": "markdown",
   "id": "0005b893-0a30-48f8-8a08-ab3f8b6370c6",
   "metadata": {},
   "source": [
    "# 🧠 Transfer Learning con MobileNetV2 – CIFAR-100\n",
    "\n",
    "**Notebook 04 – Modelo Avanzado con Transfer Learning**\n",
    "\n",
    "Aplicaremos transfer learning utilizando un modelo preentrenado en ImageNet (MobileNetV2) para mejorar el rendimiento del clasificador de imágenes basado en el dataset CIFAR-100.\n",
    "\n",
    "---"
   ]
  },
  {
   "cell_type": "code",
   "execution_count": 1,
   "id": "f7ab3897-890c-43c8-83a8-b7bd11e511b7",
   "metadata": {},
   "outputs": [
    {
     "name": "stderr",
     "output_type": "stream",
     "text": [
      "2025-04-15 17:42:34.863998: I external/local_tsl/tsl/cuda/cudart_stub.cc:31] Could not find cuda drivers on your machine, GPU will not be used.\n",
      "2025-04-15 17:42:34.904690: E external/local_xla/xla/stream_executor/cuda/cuda_dnn.cc:9261] Unable to register cuDNN factory: Attempting to register factory for plugin cuDNN when one has already been registered\n",
      "2025-04-15 17:42:34.904735: E external/local_xla/xla/stream_executor/cuda/cuda_fft.cc:607] Unable to register cuFFT factory: Attempting to register factory for plugin cuFFT when one has already been registered\n",
      "2025-04-15 17:42:34.905750: E external/local_xla/xla/stream_executor/cuda/cuda_blas.cc:1515] Unable to register cuBLAS factory: Attempting to register factory for plugin cuBLAS when one has already been registered\n",
      "2025-04-15 17:42:34.912193: I external/local_tsl/tsl/cuda/cudart_stub.cc:31] Could not find cuda drivers on your machine, GPU will not be used.\n",
      "2025-04-15 17:42:34.913330: I tensorflow/core/platform/cpu_feature_guard.cc:182] This TensorFlow binary is optimized to use available CPU instructions in performance-critical operations.\n",
      "To enable the following instructions: AVX2 FMA, in other operations, rebuild TensorFlow with the appropriate compiler flags.\n",
      "2025-04-15 17:42:35.979483: W tensorflow/compiler/tf2tensorrt/utils/py_utils.cc:38] TF-TRT Warning: Could not find TensorRT\n"
     ]
    }
   ],
   "source": [
    "import numpy as np\n",
    "import tensorflow as tf\n",
    "import matplotlib.pyplot as plt\n",
    "from tensorflow.keras.datasets import cifar100\n",
    "from tensorflow.keras.utils import to_categorical\n",
    "from tensorflow.keras.applications import MobileNetV2\n",
    "from tensorflow.keras.applications.mobilenet_v2 import preprocess_input\n",
    "from tensorflow.keras import layers, models\n",
    "from tensorflow.keras.datasets import cifar100\n",
    "from tensorflow.keras.preprocessing.image import ImageDataGenerator\n",
    "from tensorflow.keras.utils import Sequence\n",
    "from tensorflow.keras.callbacks import ModelCheckpoint, EarlyStopping\n",
    "import os"
   ]
  },
  {
   "cell_type": "markdown",
   "id": "2dbd6cd2-8522-4ca3-aa21-6da86c6ee0dd",
   "metadata": {},
   "source": [
    "## 🧱 2. Importación del modelo preentrenado y preparación de datos\n",
    "\n",
    "Utilizaremos **MobileNetV2** como *feature extractor*. Esta red fue entrenada en millones de imágenes (ImageNet) y es eficiente para tareas de clasificación.\n",
    "\n",
    "Para usarla correctamente, necesitamos:\n",
    "- Redimensionar las imágenes de 32x32 a al menos **96x96** (MobileNetV2 acepta 96x96 o más).\n",
    "- Normalizar las imágenes entre -1 y 1, ya que el modelo fue entrenado así.\n"
   ]
  },
  {
   "cell_type": "code",
   "execution_count": 2,
   "id": "d842d4c2-c310-41e2-87c1-3cb0d58ca5f6",
   "metadata": {},
   "outputs": [],
   "source": [
    "# Cargar dataset\n",
    "(x_train, y_train), (x_test, y_test) = cifar100.load_data(label_mode='fine')"
   ]
  },
  {
   "cell_type": "code",
   "execution_count": 3,
   "id": "00f07145-c918-4de8-bc64-f2c21970d40e",
   "metadata": {},
   "outputs": [],
   "source": [
    "\n",
    "\n",
    "class CIFAR100Generator(Sequence):\n",
    "    def __init__(self, x, y, batch_size=32, target_size=(96, 96), shuffle=True):\n",
    "        self.x = x\n",
    "        self.y = y\n",
    "        self.batch_size = batch_size\n",
    "        self.target_size = target_size\n",
    "        self.shuffle = shuffle\n",
    "        self.indexes = np.arange(len(x))\n",
    "        self.on_epoch_end()\n",
    "    \n",
    "    def __len__(self):\n",
    "        return int(np.ceil(len(self.x) / self.batch_size))\n",
    "\n",
    "    def __getitem__(self, index):\n",
    "        # Obtener índices del batch\n",
    "        batch_indexes = self.indexes[index * self.batch_size:(index + 1) * self.batch_size]\n",
    "        x_batch = self.x[batch_indexes]\n",
    "        y_batch = self.y[batch_indexes]\n",
    "\n",
    "        # Redimensionar + preprocesar\n",
    "        x_resized = tf.image.resize(x_batch, self.target_size)\n",
    "        x_processed = preprocess_input(x_resized)\n",
    "\n",
    "        return x_processed, y_batch\n",
    "\n",
    "    def on_epoch_end(self):\n",
    "        if self.shuffle:\n",
    "            np.random.shuffle(self.indexes)\n"
   ]
  },
  {
   "cell_type": "code",
   "execution_count": 4,
   "id": "e53aaddc-178b-4662-a405-c4982dad383d",
   "metadata": {},
   "outputs": [],
   "source": [
    "y_train_cat = to_categorical(y_train, 100)\n",
    "y_test_cat = to_categorical(y_test, 100)\n",
    "\n",
    "# Dividir entrenamiento y validación manualmente\n",
    "from sklearn.model_selection import train_test_split\n",
    "x_train_split, x_val_split, y_train_split, y_val_split = train_test_split(\n",
    "    x_train, y_train_cat, test_size=0.2, random_state=42\n",
    ")\n",
    "\n",
    "# Generadores\n",
    "train_gen = CIFAR100Generator(x_train_split, y_train_split)\n",
    "val_gen = CIFAR100Generator(x_val_split, y_val_split)\n",
    "test_gen = CIFAR100Generator(x_test, y_test_cat, shuffle=False)"
   ]
  },
  {
   "cell_type": "markdown",
   "id": "505e815b-f78b-4b26-b722-d8640b6738f4",
   "metadata": {},
   "source": [
    "## 🧠 3. Construcción del modelo con MobileNetV2\n",
    "\n",
    "En esta sección usaremos **MobileNetV2** como modelo base preentrenado en ImageNet, aprovechando su capacidad para extraer características visuales generales.\n",
    "\n",
    "- Usaremos `include_top=False` para eliminar las capas finales de clasificación original.\n",
    "- Agregaremos nuestras propias capas densas para adaptarlo a las 100 clases de CIFAR-100.\n",
    "- Congelaremos las capas de MobileNetV2 para hacer **feature extraction** (entrenar solo las capas superiores).\n"
   ]
  },
  {
   "cell_type": "code",
   "execution_count": 8,
   "id": "c16cd3ac-d572-4223-8f95-876871101619",
   "metadata": {
    "scrolled": true
   },
   "outputs": [
    {
     "ename": "NameError",
     "evalue": "name 'checkpoint_cb' is not defined",
     "output_type": "error",
     "traceback": [
      "\u001b[0;31m---------------------------------------------------------------------------\u001b[0m",
      "\u001b[0;31mNameError\u001b[0m                                 Traceback (most recent call last)",
      "Cell \u001b[0;32mIn[8], line 34\u001b[0m\n\u001b[1;32m     22\u001b[0m model \u001b[38;5;241m=\u001b[39m models\u001b[38;5;241m.\u001b[39mModel(inputs, outputs)\n\u001b[1;32m     24\u001b[0m model\u001b[38;5;241m.\u001b[39mcompile(\n\u001b[1;32m     25\u001b[0m     optimizer\u001b[38;5;241m=\u001b[39m\u001b[38;5;124m'\u001b[39m\u001b[38;5;124madam\u001b[39m\u001b[38;5;124m'\u001b[39m,\n\u001b[1;32m     26\u001b[0m     loss\u001b[38;5;241m=\u001b[39m\u001b[38;5;124m'\u001b[39m\u001b[38;5;124mcategorical_crossentropy\u001b[39m\u001b[38;5;124m'\u001b[39m,\n\u001b[1;32m     27\u001b[0m     metrics\u001b[38;5;241m=\u001b[39m[\u001b[38;5;124m'\u001b[39m\u001b[38;5;124maccuracy\u001b[39m\u001b[38;5;124m'\u001b[39m]\n\u001b[1;32m     28\u001b[0m )\n\u001b[1;32m     30\u001b[0m history \u001b[38;5;241m=\u001b[39m model\u001b[38;5;241m.\u001b[39mfit(\n\u001b[1;32m     31\u001b[0m     train_gen,\n\u001b[1;32m     32\u001b[0m     validation_data\u001b[38;5;241m=\u001b[39mval_gen,\n\u001b[1;32m     33\u001b[0m     epochs\u001b[38;5;241m=\u001b[39m\u001b[38;5;241m10\u001b[39m,  \u001b[38;5;66;03m# o hasta early stopping\u001b[39;00m\n\u001b[0;32m---> 34\u001b[0m     callbacks\u001b[38;5;241m=\u001b[39m[\u001b[43mcheckpoint_cb\u001b[49m, early_stop_cb],\n\u001b[1;32m     35\u001b[0m     verbose\u001b[38;5;241m=\u001b[39m\u001b[38;5;241m1\u001b[39m\n\u001b[1;32m     36\u001b[0m )\n",
      "\u001b[0;31mNameError\u001b[0m: name 'checkpoint_cb' is not defined"
     ]
    }
   ],
   "source": [
    "from tensorflow.keras.applications import MobileNetV2\n",
    "from tensorflow.keras import layers, models\n",
    "\n",
    "IMG_SIZE = 96\n",
    "\n",
    "# Cargar modelo base sin la cabeza\n",
    "base_model = MobileNetV2(\n",
    "    input_shape=(IMG_SIZE, IMG_SIZE, 3),\n",
    "    include_top=False,\n",
    "    weights='imagenet'\n",
    ")\n",
    "\n",
    "base_model.trainable = False  # Lo congelamos inicialmente\n",
    "\n",
    "# Creamos el modelo completo (usamos API funcional para mayor control)\n",
    "inputs = layers.Input(shape=(IMG_SIZE, IMG_SIZE, 3))\n",
    "x = base_model(inputs, training=False)\n",
    "x = layers.GlobalAveragePooling2D()(x)\n",
    "x = layers.Dense(256, activation='relu')(x)\n",
    "x = layers.Dropout(0.5)(x)\n",
    "outputs = layers.Dense(100, activation='softmax')(x)\n",
    "model = models.Model(inputs, outputs)\n",
    "\n",
    "model.compile(\n",
    "    optimizer='adam',\n",
    "    loss='categorical_crossentropy',\n",
    "    metrics=['accuracy']\n",
    ")\n",
    "\n",
    "history = model.fit(\n",
    "    train_gen,\n",
    "    validation_data=val_gen,\n",
    "    epochs=10,  # o hasta early stopping\n",
    "    callbacks=[checkpoint_cb, early_stop_cb],\n",
    "    verbose=1\n",
    ")"
   ]
  },
  {
   "cell_type": "markdown",
   "id": "eedeaf7d-16de-4885-bb67-8f9fdc8cc2ff",
   "metadata": {},
   "source": [
    "## 💾 3.1 Guardado y recuperación del modelo con Checkpoints\n",
    "\n",
    "Para evitar perder el progreso del entrenamiento, configuramos un **ModelCheckpoint** que guarda el modelo automáticamente cuando la precisión en validación mejora.\n",
    "\n",
    "Esto también permite **reiniciar el entrenamiento desde el último punto guardado** si el kernel se detiene.\n"
   ]
  },
  {
   "cell_type": "code",
   "execution_count": 9,
   "id": "1207d612-31a1-49c3-8a7d-2c50a79aa912",
   "metadata": {},
   "outputs": [],
   "source": [
    "# Crear carpeta para guardar modelos (si no existe)\n",
    "os.makedirs(\"checkpoints\", exist_ok=True)\n",
    "\n",
    "# Ruta del archivo .h5 para guardar el mejor modelo\n",
    "checkpoint_path = \"checkpoints/mobilenetv2_cifar100_best.h5\"\n",
    "\n",
    "# Callback para guardar el mejor modelo según val_accuracy\n",
    "checkpoint_cb = ModelCheckpoint(\n",
    "    filepath=checkpoint_path,\n",
    "    monitor='val_accuracy',\n",
    "    save_best_only=True,\n",
    "    save_weights_only=False,\n",
    "    verbose=1\n",
    ")\n",
    "\n",
    "# Early stopping\n",
    "early_stop_cb = EarlyStopping(\n",
    "    monitor='val_accuracy',\n",
    "    patience=5,\n",
    "    restore_best_weights=True,\n",
    "    verbose=1\n",
    ")"
   ]
  },
  {
   "cell_type": "markdown",
   "id": "6ad3c144-bba0-4fdd-af73-206fdd379e9c",
   "metadata": {},
   "source": [
    "## 🔁 3.2 Cargar modelo desde el último checkpoint guardado"
   ]
  },
  {
   "cell_type": "code",
   "execution_count": 13,
   "id": "9db4f132-bdca-4bf6-8f41-f05b005c71f2",
   "metadata": {},
   "outputs": [],
   "source": [
    "from tensorflow.keras.models import load_model\n",
    "\n",
    "model = load_model('checkpoints/cnn_cifar100_best.h5')"
   ]
  },
  {
   "cell_type": "markdown",
   "id": "d284ef6b-5d8d-48f3-b408-9a55596f93ff",
   "metadata": {},
   "source": [
    "## 🔓 3.3. Descongela las últimas capas de MobileNetV2:\n",
    "Conviene dejar las capas iniciales congeladas (aprenden bordes y texturas generales)."
   ]
  },
  {
   "cell_type": "code",
   "execution_count": 20,
   "id": "ee4bde93-40ed-4525-9f58-f10ad4f4c24c",
   "metadata": {},
   "outputs": [
    {
     "name": "stdout",
     "output_type": "stream",
     "text": [
      "Epoch 1/20\n",
      "1250/1250 [==============================] - ETA: 0s - loss: 1.0820 - accuracy: 0.6742\n",
      "Epoch 1: val_accuracy improved from 0.62170 to 0.63820, saving model to checkpoints/mobilenetv2_cifar100_best.h5\n",
      "1250/1250 [==============================] - 194s 151ms/step - loss: 1.0820 - accuracy: 0.6742 - val_loss: 1.3458 - val_accuracy: 0.6382\n",
      "Epoch 2/20\n",
      "1250/1250 [==============================] - ETA: 0s - loss: 0.9733 - accuracy: 0.7042\n",
      "Epoch 2: val_accuracy improved from 0.63820 to 0.64270, saving model to checkpoints/mobilenetv2_cifar100_best.h5\n",
      "1250/1250 [==============================] - 187s 150ms/step - loss: 0.9733 - accuracy: 0.7042 - val_loss: 1.3271 - val_accuracy: 0.6427\n",
      "Epoch 3/20\n",
      "1250/1250 [==============================] - ETA: 0s - loss: 0.9012 - accuracy: 0.7225\n",
      "Epoch 3: val_accuracy improved from 0.64270 to 0.64870, saving model to checkpoints/mobilenetv2_cifar100_best.h5\n",
      "1250/1250 [==============================] - 186s 149ms/step - loss: 0.9012 - accuracy: 0.7225 - val_loss: 1.3153 - val_accuracy: 0.6487\n",
      "Epoch 4/20\n",
      "1250/1250 [==============================] - ETA: 0s - loss: 0.8365 - accuracy: 0.7407\n",
      "Epoch 4: val_accuracy improved from 0.64870 to 0.65560, saving model to checkpoints/mobilenetv2_cifar100_best.h5\n",
      "1250/1250 [==============================] - 173s 138ms/step - loss: 0.8365 - accuracy: 0.7407 - val_loss: 1.3023 - val_accuracy: 0.6556\n",
      "Epoch 5/20\n",
      "1250/1250 [==============================] - ETA: 0s - loss: 0.7964 - accuracy: 0.7516\n",
      "Epoch 5: val_accuracy improved from 0.65560 to 0.65710, saving model to checkpoints/mobilenetv2_cifar100_best.h5\n",
      "1250/1250 [==============================] - 196s 157ms/step - loss: 0.7964 - accuracy: 0.7516 - val_loss: 1.2858 - val_accuracy: 0.6571\n",
      "Epoch 6/20\n",
      "1250/1250 [==============================] - ETA: 0s - loss: 0.7506 - accuracy: 0.7642\n",
      "Epoch 6: val_accuracy improved from 0.65710 to 0.66280, saving model to checkpoints/mobilenetv2_cifar100_best.h5\n",
      "1250/1250 [==============================] - 181s 144ms/step - loss: 0.7506 - accuracy: 0.7642 - val_loss: 1.2884 - val_accuracy: 0.6628\n",
      "Epoch 7/20\n",
      "1250/1250 [==============================] - ETA: 0s - loss: 0.7143 - accuracy: 0.7728\n",
      "Epoch 7: val_accuracy improved from 0.66280 to 0.66650, saving model to checkpoints/mobilenetv2_cifar100_best.h5\n",
      "1250/1250 [==============================] - 171s 137ms/step - loss: 0.7143 - accuracy: 0.7728 - val_loss: 1.2673 - val_accuracy: 0.6665\n",
      "Epoch 8/20\n",
      "1250/1250 [==============================] - ETA: 0s - loss: 0.6636 - accuracy: 0.7871\n",
      "Epoch 8: val_accuracy did not improve from 0.66650\n",
      "1250/1250 [==============================] - 171s 137ms/step - loss: 0.6636 - accuracy: 0.7871 - val_loss: 1.2980 - val_accuracy: 0.6650\n",
      "Epoch 9/20\n",
      "1250/1250 [==============================] - ETA: 0s - loss: 0.6437 - accuracy: 0.7960\n",
      "Epoch 9: val_accuracy improved from 0.66650 to 0.66820, saving model to checkpoints/mobilenetv2_cifar100_best.h5\n",
      "1250/1250 [==============================] - 175s 140ms/step - loss: 0.6437 - accuracy: 0.7960 - val_loss: 1.2882 - val_accuracy: 0.6682\n",
      "Epoch 10/20\n",
      "1250/1250 [==============================] - ETA: 0s - loss: 0.6124 - accuracy: 0.8026\n",
      "Epoch 10: val_accuracy improved from 0.66820 to 0.67460, saving model to checkpoints/mobilenetv2_cifar100_best.h5\n",
      "1250/1250 [==============================] - 176s 141ms/step - loss: 0.6124 - accuracy: 0.8026 - val_loss: 1.2948 - val_accuracy: 0.6746\n",
      "Epoch 11/20\n",
      "1250/1250 [==============================] - ETA: 0s - loss: 0.5762 - accuracy: 0.8127\n",
      "Epoch 11: val_accuracy did not improve from 0.67460\n",
      "1250/1250 [==============================] - 191s 153ms/step - loss: 0.5762 - accuracy: 0.8127 - val_loss: 1.2768 - val_accuracy: 0.6700\n",
      "Epoch 12/20\n",
      "1250/1250 [==============================] - ETA: 0s - loss: 0.5495 - accuracy: 0.8196\n",
      "Epoch 12: val_accuracy did not improve from 0.67460\n",
      "1250/1250 [==============================] - 172s 138ms/step - loss: 0.5495 - accuracy: 0.8196 - val_loss: 1.2990 - val_accuracy: 0.6720\n",
      "Epoch 13/20\n",
      "1250/1250 [==============================] - ETA: 0s - loss: 0.5150 - accuracy: 0.8309\n",
      "Epoch 13: val_accuracy improved from 0.67460 to 0.67570, saving model to checkpoints/mobilenetv2_cifar100_best.h5\n",
      "1250/1250 [==============================] - 169s 135ms/step - loss: 0.5150 - accuracy: 0.8309 - val_loss: 1.2985 - val_accuracy: 0.6757\n",
      "Epoch 14/20\n",
      "1250/1250 [==============================] - ETA: 0s - loss: 0.4923 - accuracy: 0.8368\n",
      "Epoch 14: val_accuracy improved from 0.67570 to 0.67780, saving model to checkpoints/mobilenetv2_cifar100_best.h5\n",
      "1250/1250 [==============================] - 166s 133ms/step - loss: 0.4923 - accuracy: 0.8368 - val_loss: 1.3131 - val_accuracy: 0.6778\n",
      "Epoch 15/20\n",
      "1250/1250 [==============================] - ETA: 0s - loss: 0.4765 - accuracy: 0.8432\n",
      "Epoch 15: val_accuracy did not improve from 0.67780\n",
      "1250/1250 [==============================] - 167s 133ms/step - loss: 0.4765 - accuracy: 0.8432 - val_loss: 1.2931 - val_accuracy: 0.6744\n",
      "Epoch 16/20\n",
      "1250/1250 [==============================] - ETA: 0s - loss: 0.4478 - accuracy: 0.8535\n",
      "Epoch 16: val_accuracy improved from 0.67780 to 0.67950, saving model to checkpoints/mobilenetv2_cifar100_best.h5\n",
      "1250/1250 [==============================] - 173s 138ms/step - loss: 0.4478 - accuracy: 0.8535 - val_loss: 1.3115 - val_accuracy: 0.6795\n",
      "Epoch 17/20\n",
      "1250/1250 [==============================] - ETA: 0s - loss: 0.4287 - accuracy: 0.8582\n",
      "Epoch 17: val_accuracy improved from 0.67950 to 0.67990, saving model to checkpoints/mobilenetv2_cifar100_best.h5\n",
      "1250/1250 [==============================] - 175s 140ms/step - loss: 0.4287 - accuracy: 0.8582 - val_loss: 1.3291 - val_accuracy: 0.6799\n",
      "Epoch 18/20\n",
      "1250/1250 [==============================] - ETA: 0s - loss: 0.4123 - accuracy: 0.8623\n",
      "Epoch 18: val_accuracy did not improve from 0.67990\n",
      "1250/1250 [==============================] - 178s 142ms/step - loss: 0.4123 - accuracy: 0.8623 - val_loss: 1.3291 - val_accuracy: 0.6781\n",
      "Epoch 19/20\n",
      "1249/1250 [============================>.] - ETA: 0s - loss: 0.3999 - accuracy: 0.8669\n",
      "Epoch 19: val_accuracy improved from 0.67990 to 0.68400, saving model to checkpoints/mobilenetv2_cifar100_best.h5\n",
      "1250/1250 [==============================] - 170s 136ms/step - loss: 0.3998 - accuracy: 0.8670 - val_loss: 1.3292 - val_accuracy: 0.6840\n",
      "Epoch 20/20\n",
      "1250/1250 [==============================] - ETA: 0s - loss: 0.3755 - accuracy: 0.8760\n",
      "Epoch 20: val_accuracy improved from 0.68400 to 0.68630, saving model to checkpoints/mobilenetv2_cifar100_best.h5\n",
      "1250/1250 [==============================] - 166s 133ms/step - loss: 0.3755 - accuracy: 0.8760 - val_loss: 1.3314 - val_accuracy: 0.6863\n"
     ]
    }
   ],
   "source": [
    "# Descongela el modelo base\n",
    "base_model.trainable = True\n",
    "\n",
    "# Opcional: congelar las capas más bajas\n",
    "for layer in base_model.layers[:100]:\n",
    "    layer.trainable = False\n",
    "\n",
    "# Recompilar con un learning rate más bajo\n",
    "from tensorflow.keras.optimizers import Adam\n",
    "\n",
    "model.compile(\n",
    "    optimizer=Adam(learning_rate=1e-5),  # mucho más bajo\n",
    "    loss='categorical_crossentropy',\n",
    "    metrics=['accuracy']\n",
    ")\n",
    "\n",
    "# Continúa el entrenamiento\n",
    "history_finetune = model.fit(\n",
    "    train_gen,\n",
    "    validation_data=val_gen,\n",
    "    epochs=20,\n",
    "    callbacks=[checkpoint_cb, early_stop_cb],\n",
    "    verbose=1\n",
    ")"
   ]
  },
  {
   "cell_type": "markdown",
   "id": "afb4f783-d3a2-42de-9688-4e7558537ea9",
   "metadata": {},
   "source": [
    "## 🔧 3.4 Recompila y entrena el modelo con tasa de aprendizaje más baja:"
   ]
  },
  {
   "cell_type": "code",
   "execution_count": 5,
   "id": "df6e7ea5-0796-45e8-9a4a-e0f683595fa9",
   "metadata": {},
   "outputs": [],
   "source": [
    "from tensorflow.keras.models import load_model\n",
    "\n",
    "model = load_model('checkpoints/mobilenetv2_cifar100_best.h5')"
   ]
  },
  {
   "cell_type": "code",
   "execution_count": 8,
   "id": "2ea18369-9218-4b89-bc30-822ea684ff7f",
   "metadata": {},
   "outputs": [
    {
     "name": "stdout",
     "output_type": "stream",
     "text": [
      "313/313 [==============================] - 26s 80ms/step - loss: 1.3679 - accuracy: 0.6922\n",
      "Validation loss: 1.3679\n",
      "Validation accuracy: 0.6922\n"
     ]
    }
   ],
   "source": [
    "loss, accuracy = model.evaluate(val_gen)\n",
    "print(f\"Validation loss: {loss:.4f}\")\n",
    "print(f\"Validation accuracy: {accuracy:.4f}\")\n"
   ]
  },
  {
   "cell_type": "code",
   "execution_count": null,
   "id": "5201dc12-1b63-4315-ae27-073fe00f4589",
   "metadata": {},
   "outputs": [],
   "source": [
    "from tensorflow.keras.models import load_model\n",
    "\n",
    "model = load_model(\"checkpoints/mobilenetv2_cifar100_best.h5\")\n",
    "\n",
    "# Recompilar (con tasa menor si haces fine-tuning)\n",
    "model.compile(\n",
    "    optimizer=Adam(learning_rate=1e-5),\n",
    "    loss='categorical_crossentropy',\n",
    "    metrics=['accuracy']\n",
    ")\n",
    "\n",
    "# Vuelve a entrenar\n",
    "model.fit(\n",
    "    train_gen,\n",
    "    validation_data=val_gen,\n",
    "    epochs=10,  # intenta pocas primero\n",
    "    callbacks=[early_stop_cb, checkpoint_cb],\n",
    "    use_multiprocessing=True,\n",
    "    workers=4,\n",
    "    verbose=1\n",
    ")\n"
   ]
  },
  {
   "cell_type": "markdown",
   "id": "988d0d27-da80-4e09-9aac-2cef9d240475",
   "metadata": {},
   "source": [
    "## 🏃‍♂️ 4. Entrenamiento del modelo con EarlyStopping\n",
    "\n",
    "Entrenaremos el modelo utilizando los generadores definidos anteriormente. Para evitar sobreajuste y optimizar el tiempo de entrenamiento, aplicaremos la técnica de **EarlyStopping**, que detiene el entrenamiento si la precisión en validación no mejora después de varias épocas consecutivas.\n"
   ]
  },
  {
   "cell_type": "code",
   "execution_count": 15,
   "id": "9b4c79f1-12e6-481e-b342-a33f25653882",
   "metadata": {},
   "outputs": [
    {
     "name": "stdout",
     "output_type": "stream",
     "text": [
      "Epoch 1/30\n",
      "1250/1250 [==============================] - ETA: 0s - loss: 2.5355 - accuracy: 0.3708\n",
      "Epoch 1: val_accuracy improved from -inf to 0.57180, saving model to checkpoints/mobilenetv2_cifar100_best.h5\n"
     ]
    },
    {
     "name": "stderr",
     "output_type": "stream",
     "text": [
      "/usr/local/lib/python3.10/site-packages/keras/src/engine/training.py:3103: UserWarning: You are saving your model as an HDF5 file via `model.save()`. This file format is considered legacy. We recommend using instead the native Keras format, e.g. `model.save('my_model.keras')`.\n",
      "  saving_api.save_model(\n"
     ]
    },
    {
     "name": "stdout",
     "output_type": "stream",
     "text": [
      "1250/1250 [==============================] - 116s 91ms/step - loss: 2.5355 - accuracy: 0.3708 - val_loss: 1.5610 - val_accuracy: 0.5718\n",
      "Epoch 2/30\n",
      "1250/1250 [==============================] - ETA: 0s - loss: 1.8147 - accuracy: 0.5094\n",
      "Epoch 2: val_accuracy improved from 0.57180 to 0.58900, saving model to checkpoints/mobilenetv2_cifar100_best.h5\n",
      "1250/1250 [==============================] - 111s 89ms/step - loss: 1.8147 - accuracy: 0.5094 - val_loss: 1.4492 - val_accuracy: 0.5890\n",
      "Epoch 3/30\n",
      "1250/1250 [==============================] - ETA: 0s - loss: 1.6586 - accuracy: 0.5411\n",
      "Epoch 3: val_accuracy improved from 0.58900 to 0.59770, saving model to checkpoints/mobilenetv2_cifar100_best.h5\n",
      "1250/1250 [==============================] - 110s 88ms/step - loss: 1.6586 - accuracy: 0.5411 - val_loss: 1.4259 - val_accuracy: 0.5977\n",
      "Epoch 4/30\n",
      "1250/1250 [==============================] - ETA: 0s - loss: 1.5634 - accuracy: 0.5605\n",
      "Epoch 4: val_accuracy improved from 0.59770 to 0.60700, saving model to checkpoints/mobilenetv2_cifar100_best.h5\n",
      "1250/1250 [==============================] - 111s 89ms/step - loss: 1.5634 - accuracy: 0.5605 - val_loss: 1.3982 - val_accuracy: 0.6070\n",
      "Epoch 5/30\n",
      "1250/1250 [==============================] - ETA: 0s - loss: 1.4930 - accuracy: 0.5757\n",
      "Epoch 5: val_accuracy did not improve from 0.60700\n",
      "1250/1250 [==============================] - 112s 89ms/step - loss: 1.4930 - accuracy: 0.5757 - val_loss: 1.3942 - val_accuracy: 0.6066\n",
      "Epoch 6/30\n",
      "1250/1250 [==============================] - ETA: 0s - loss: 1.4346 - accuracy: 0.5936\n",
      "Epoch 6: val_accuracy improved from 0.60700 to 0.60980, saving model to checkpoints/mobilenetv2_cifar100_best.h5\n",
      "1250/1250 [==============================] - 1538s 1s/step - loss: 1.4346 - accuracy: 0.5936 - val_loss: 1.3898 - val_accuracy: 0.6098\n",
      "Epoch 7/30\n",
      "1250/1250 [==============================] - ETA: 0s - loss: 1.3835 - accuracy: 0.6036\n",
      "Epoch 7: val_accuracy improved from 0.60980 to 0.61370, saving model to checkpoints/mobilenetv2_cifar100_best.h5\n",
      "1250/1250 [==============================] - 109s 87ms/step - loss: 1.3835 - accuracy: 0.6036 - val_loss: 1.3883 - val_accuracy: 0.6137\n",
      "Epoch 8/30\n",
      "1250/1250 [==============================] - ETA: 0s - loss: 1.3336 - accuracy: 0.6129\n",
      "Epoch 8: val_accuracy improved from 0.61370 to 0.61650, saving model to checkpoints/mobilenetv2_cifar100_best.h5\n",
      "1250/1250 [==============================] - 109s 87ms/step - loss: 1.3336 - accuracy: 0.6129 - val_loss: 1.3879 - val_accuracy: 0.6165\n",
      "Epoch 9/30\n",
      "1250/1250 [==============================] - ETA: 0s - loss: 1.2907 - accuracy: 0.6224\n",
      "Epoch 9: val_accuracy did not improve from 0.61650\n",
      "1250/1250 [==============================] - 107s 86ms/step - loss: 1.2907 - accuracy: 0.6224 - val_loss: 1.4073 - val_accuracy: 0.6140\n",
      "Epoch 10/30\n",
      "1250/1250 [==============================] - ETA: 0s - loss: 1.2478 - accuracy: 0.6348\n",
      "Epoch 10: val_accuracy did not improve from 0.61650\n",
      "1250/1250 [==============================] - 108s 87ms/step - loss: 1.2478 - accuracy: 0.6348 - val_loss: 1.4257 - val_accuracy: 0.6139\n",
      "Epoch 11/30\n",
      "1250/1250 [==============================] - ETA: 0s - loss: 1.2403 - accuracy: 0.6391\n",
      "Epoch 11: val_accuracy did not improve from 0.61650\n",
      "1250/1250 [==============================] - 109s 87ms/step - loss: 1.2403 - accuracy: 0.6391 - val_loss: 1.4403 - val_accuracy: 0.6143\n",
      "Epoch 12/30\n",
      "1250/1250 [==============================] - ETA: 0s - loss: 1.1815 - accuracy: 0.6492\n",
      "Epoch 12: val_accuracy improved from 0.61650 to 0.61760, saving model to checkpoints/mobilenetv2_cifar100_best.h5\n",
      "1250/1250 [==============================] - 111s 89ms/step - loss: 1.1815 - accuracy: 0.6492 - val_loss: 1.4484 - val_accuracy: 0.6176\n",
      "Epoch 13/30\n",
      "1250/1250 [==============================] - ETA: 0s - loss: 1.1627 - accuracy: 0.6545\n",
      "Epoch 13: val_accuracy did not improve from 0.61760\n",
      "1250/1250 [==============================] - 106s 85ms/step - loss: 1.1627 - accuracy: 0.6545 - val_loss: 1.4661 - val_accuracy: 0.6139\n",
      "Epoch 14/30\n",
      "1250/1250 [==============================] - ETA: 0s - loss: 1.1311 - accuracy: 0.6643\n",
      "Epoch 14: val_accuracy did not improve from 0.61760\n",
      "1250/1250 [==============================] - 106s 85ms/step - loss: 1.1311 - accuracy: 0.6643 - val_loss: 1.4710 - val_accuracy: 0.6127\n",
      "Epoch 15/30\n",
      "1250/1250 [==============================] - ETA: 0s - loss: 1.1040 - accuracy: 0.6689\n",
      "Epoch 15: val_accuracy did not improve from 0.61760\n",
      "1250/1250 [==============================] - 109s 87ms/step - loss: 1.1040 - accuracy: 0.6689 - val_loss: 1.5341 - val_accuracy: 0.6135\n",
      "Epoch 16/30\n",
      "1250/1250 [==============================] - ETA: 0s - loss: 1.0742 - accuracy: 0.6759\n",
      "Epoch 16: val_accuracy did not improve from 0.61760\n",
      "1250/1250 [==============================] - 111s 89ms/step - loss: 1.0742 - accuracy: 0.6759 - val_loss: 1.5257 - val_accuracy: 0.6143\n",
      "Epoch 17/30\n",
      "1250/1250 [==============================] - ETA: 0s - loss: 1.0621 - accuracy: 0.6803Restoring model weights from the end of the best epoch: 12.\n",
      "\n",
      "Epoch 17: val_accuracy did not improve from 0.61760\n",
      "1250/1250 [==============================] - 617s 494ms/step - loss: 1.0621 - accuracy: 0.6803 - val_loss: 1.5475 - val_accuracy: 0.6104\n",
      "Epoch 17: early stopping\n"
     ]
    }
   ],
   "source": [
    "# Entrenamiento con ambos callbacks\n",
    "history = model.fit(\n",
    "    train_gen,\n",
    "    validation_data=val_gen,\n",
    "    epochs=30,\n",
    "    callbacks=[early_stop_cb, checkpoint_cb],\n",
    "    verbose=1\n",
    ")"
   ]
  },
  {
   "cell_type": "code",
   "execution_count": null,
   "id": "1a903987-6e88-4b71-95cb-c5f991548831",
   "metadata": {},
   "outputs": [],
   "source": [
    "# Verificar si ya existe un checkpoint y cargarlo\n",
    "if os.path.exists(checkpoint_path):\n",
    "    print(\"✅ Modelo cargado desde checkpoint\")\n",
    "    model = load_model(checkpoint_path)\n",
    "    model.summary()\n",
    "else:\n",
    "    print(\"⚠️ No se encontró checkpoint, asegúrate de entrenar primero\")"
   ]
  },
  {
   "cell_type": "code",
   "execution_count": null,
   "id": "35271017-1bea-414a-987c-ab1719ccf84c",
   "metadata": {},
   "outputs": [],
   "source": [
    "history = model.fit(\n",
    "    train_gen,\n",
    "    validation_data=val_gen,\n",
    "    initial_epoch=última_época,  # opcional\n",
    "    epochs=30,\n",
    "    callbacks=[early_stop_cb, checkpoint_cb],\n",
    "    verbose=1\n",
    ")\n"
   ]
  },
  {
   "cell_type": "markdown",
   "id": "7ee6c1e7-e170-4e4c-a225-54ac79baa11a",
   "metadata": {},
   "source": [
    "## 📊 5. Evaluación final y visualización de resultados\n",
    "\n",
    "A continuación, se presentan las curvas de rendimiento del modelo entrenado, así como su evaluación en el conjunto de prueba (`test_gen`).\n",
    "\n",
    "Se utilizó `EarlyStopping` para evitar el sobreentrenamiento, y el modelo fue guardado automáticamente en su mejor versión con `ModelCheckpoint`.\n"
   ]
  },
  {
   "cell_type": "code",
   "execution_count": 16,
   "id": "9e375fe4-9540-4776-a9a2-a1fbbea9c7eb",
   "metadata": {},
   "outputs": [
    {
     "data": {
      "image/png": "[encoded data removed]",
      "text/plain": [
       "<Figure size 1400x500 with 2 Axes>"
      ]
     },
     "metadata": {},
     "output_type": "display_data"
    }
   ],
   "source": [
    "\n",
    "def plot_history(hist):\n",
    "    plt.figure(figsize=(14, 5))\n",
    "\n",
    "    # Accuracy\n",
    "    plt.subplot(1, 2, 1)\n",
    "    plt.plot(hist.history['accuracy'], label='Entrenamiento')\n",
    "    plt.plot(hist.history['val_accuracy'], label='Validación')\n",
    "    plt.title('Precisión')\n",
    "    plt.xlabel('Épocas')\n",
    "    plt.ylabel('Accuracy')\n",
    "    plt.legend()\n",
    "\n",
    "    # Loss\n",
    "    plt.subplot(1, 2, 2)\n",
    "    plt.plot(hist.history['loss'], label='Entrenamiento')\n",
    "    plt.plot(hist.history['val_loss'], label='Validación')\n",
    "    plt.title('Pérdida')\n",
    "    plt.xlabel('Épocas')\n",
    "    plt.ylabel('Loss')\n",
    "    plt.legend()\n",
    "\n",
    "    plt.tight_layout()\n",
    "    plt.show()\n",
    "\n",
    "# Ejecutar\n",
    "plot_history(history)\n"
   ]
  },
  {
   "cell_type": "code",
   "execution_count": 17,
   "id": "e9aac5f9-4a53-404d-a15e-cdc68914a31d",
   "metadata": {},
   "outputs": [
    {
     "name": "stdout",
     "output_type": "stream",
     "text": [
      "313/313 [==============================] - 22s 69ms/step - loss: 1.4517 - accuracy: 0.6128\n",
      "🔍 Test Accuracy: 0.6128\n",
      "📉 Test Loss: 1.4517\n"
     ]
    }
   ],
   "source": [
    "# Evaluar en el test set\n",
    "test_loss, test_accuracy = model.evaluate(test_gen)\n",
    "print(f\"🔍 Test Accuracy: {test_accuracy:.4f}\")\n",
    "print(f\"📉 Test Loss: {test_loss:.4f}\")\n"
   ]
  },
  {
   "cell_type": "markdown",
   "id": "a82c8ea3-bac7-4393-a127-03871675850f",
   "metadata": {},
   "source": [
    "### 📘 Evaluación final en el conjunto de prueba\n",
    "\n",
    "El modelo entrenado con MobileNetV2 logró una precisión del **61.28% en el set de prueba**, lo que demuestra su capacidad de generalización y estabilidad.\n",
    "\n",
    "Este resultado confirma que:\n",
    "- La estrategia de **transfer learning** fue altamente efectiva.\n",
    "- Las técnicas aplicadas de regularización y callbacks contribuyeron a un entrenamiento eficiente.\n",
    "- El modelo guardado automáticamente en su mejor versión (época 12) fue restaurado con éxito por EarlyStopping.\n",
    "\n"
   ]
  },
  {
   "cell_type": "markdown",
   "id": "63f184ff-79d2-4e96-a7e3-8ee15533fe2e",
   "metadata": {},
   "source": [
    "## ✅ Conclusiones del notebook\n",
    "\n",
    "- Se entrenó un modelo basado en **MobileNetV2** con transferencia de aprendizaje, obteniendo resultados superiores a los modelos anteriores entrenados desde cero.\n",
    "- Se implementaron correctamente técnicas como:\n",
    "  - Redimensionamiento dinámico y preprocesamiento con generadores personalizados\n",
    "  - Callbacks de `EarlyStopping` y `ModelCheckpoint`\n",
    "  - Visualización de curvas de entrenamiento\n",
    "- El modelo alcanzó un **val_accuracy del 61.76%**, siendo uno de los mejores logrados hasta ahora en esta serie de experimentos.\n",
    "\n",
    "\n",
    "📁 Próximo notebook sugerido:\n",
    "`05_fine_tuning_mobilenetv2.ipynb` – Ajuste fino desbloqueando capas del modelo base para mejorar aún más la precisión."
   ]
  },
  {
   "cell_type": "code",
   "execution_count": null,
   "id": "60703666-14f5-4cd5-9209-d69083c10b94",
   "metadata": {},
   "outputs": [],
   "source": []
  }
 ],
 "metadata": {
  "kernelspec": {
   "display_name": "Python 3 (ipykernel)",
   "language": "python",
   "name": "python3"
  },
  "language_info": {
   "codemirror_mode": {
    "name": "ipython",
    "version": 3
   },
   "file_extension": ".py",
   "mimetype": "text/x-python",
   "name": "python",
   "nbconvert_exporter": "python",
   "pygments_lexer": "ipython3",
   "version": "3.10.17"
  }
 },
 "nbformat": 4,
 "nbformat_minor": 5
}
