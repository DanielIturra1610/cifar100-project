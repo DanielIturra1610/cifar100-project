{
 "cells": [
  {
   "cell_type": "markdown",
   "id": "99a477ac",
   "metadata": {},
   "source": [
    "# Fine-tuning MobileNetV2 on CIFAR-100\n",
    "This notebook continues training a MobileNetV2-based model that has reached ~69.2% validation accuracy, with the goal of pushing it past 70%."
   ]
  },
  {
   "cell_type": "code",
   "execution_count": null,
   "id": "b8bc3c53",
   "metadata": {},
   "outputs": [],
   "source": [
    "import tensorflow as tf\n",
    "from tensorflow.keras.models import load_model\n",
    "from tensorflow.keras.preprocessing.image import ImageDataGenerator\n",
    "from tensorflow.keras import layers, models, optimizers, regularizers\n",
    "from tensorflow.keras.applications import MobileNetV2\n",
    "from tensorflow.keras.callbacks import EarlyStopping, ModelCheckpoint, ReduceLROnPlateau\n",
    "import os\n",
    "import matplotlib.pyplot as plt"
   ]
  },
  {
   "cell_type": "markdown",
   "id": "b8e83145",
   "metadata": {},
   "source": [
    "## Load previous best model and prepare dataset"
   ]
  },
  {
   "cell_type": "code",
   "execution_count": null,
   "id": "55d69ed3",
   "metadata": {},
   "outputs": [],
   "source": [
    "# Load best model so far\n",
    "model = load_model('checkpoints/mobilenetv2_cifar100_best.h5')\n",
    "\n",
    "# Prepare data generators\n",
    "IMG_SIZE = 96\n",
    "BATCH_SIZE = 64\n",
    "\n",
    "(x_train, y_train), (x_test, y_test) = tf.keras.datasets.cifar100.load_data()\n",
    "x_train, x_test = x_train / 255.0, x_test / 255.0\n",
    "\n",
    "train_datagen = ImageDataGenerator(\n",
    "    rotation_range=20,\n",
    "    width_shift_range=0.1,\n",
    "    height_shift_range=0.1,\n",
    "    horizontal_flip=True,\n",
    "    zoom_range=0.2\n",
    ")\n",
    "\n",
    "train_gen = train_datagen.flow(x_train, tf.keras.utils.to_categorical(y_train, 100), batch_size=BATCH_SIZE)\n",
    "val_gen = ImageDataGenerator().flow(x_test, tf.keras.utils.to_categorical(y_test, 100), batch_size=BATCH_SIZE)"
   ]
  },
  {
   "cell_type": "markdown",
   "id": "9924f1f6",
   "metadata": {},
   "source": [
    "## Fine-tuning the last 40 layers of MobileNetV2"
   ]
  },
  {
   "cell_type": "code",
   "execution_count": null,
   "id": "cb9960cd",
   "metadata": {},
   "outputs": [],
   "source": [
    "# Enable training on last 40 layers of base model\n",
    "base_model = model.layers[0]  # MobileNetV2\n",
    "base_model.trainable = True\n",
    "\n",
    "for layer in base_model.layers[:-40]:\n",
    "    layer.trainable = False\n",
    "\n",
    "# Recompile model\n",
    "model.compile(\n",
    "    optimizer=tf.keras.optimizers.Adam(learning_rate=1e-4),\n",
    "    loss='categorical_crossentropy',\n",
    "    metrics=['accuracy']\n",
    ")"
   ]
  },
  {
   "cell_type": "markdown",
   "id": "0d038791",
   "metadata": {},
   "source": [
    "## Continue training with early stopping and learning rate scheduler"
   ]
  },
  {
   "cell_type": "code",
   "execution_count": null,
   "id": "818e66ed",
   "metadata": {},
   "outputs": [],
   "source": [
    "# Callbacks\n",
    "checkpoint_cb = ModelCheckpoint('checkpoints/mobilenetv2_finetuned_best.h5', save_best_only=True)\n",
    "early_stop_cb = EarlyStopping(patience=10, restore_best_weights=True)\n",
    "lr_cb = ReduceLROnPlateau(factor=0.5, patience=3, min_lr=1e-6)\n",
    "\n",
    "# Train more epochs\n",
    "history = model.fit(\n",
    "    train_gen,\n",
    "    validation_data=val_gen,\n",
    "    epochs=30,\n",
    "    callbacks=[checkpoint_cb, early_stop_cb, lr_cb],\n",
    "    verbose=1\n",
    ")"
   ]
  },
  {
   "cell_type": "markdown",
   "id": "67266ff3",
   "metadata": {},
   "source": [
    "## Final evaluation"
   ]
  },
  {
   "cell_type": "code",
   "execution_count": null,
   "id": "ebe0b7a3",
   "metadata": {},
   "outputs": [],
   "source": [
    "model = load_model('checkpoints/mobilenetv2_finetuned_best.h5')\n",
    "loss, acc = model.evaluate(val_gen)\n",
    "print(f\"Final Validation Loss: {loss:.4f}\")\n",
    "print(f\"Final Validation Accuracy: {acc:.4f}\")"
   ]
  }
 ],
 "metadata": {},
 "nbformat": 4,
 "nbformat_minor": 5
}
