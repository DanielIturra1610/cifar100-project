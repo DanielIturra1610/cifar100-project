{
 "cells": [
  {
   "cell_type": "markdown",
   "id": "80757629",
   "metadata": {},
   "source": [
    "# Modelo MLP para clasificación en CIFAR-100"
   ]
  },
  {
   "cell_type": "markdown",
   "id": "10eda848-5c98-43d9-bce3-cf6834be587e",
   "metadata": {},
   "source": [
    "## Mapeo de clases a superclases"
   ]
  },
  {
   "cell_type": "code",
   "execution_count": 1,
   "id": "be8cb465-b734-489e-b905-edb08c9dcc54",
   "metadata": {},
   "outputs": [],
   "source": [
    "class_mapping = {\n",
    "    'aquatic mammals': ['beaver', 'dolphin', 'otter', 'seal', 'whale'],\n",
    "    'fish': ['aquarium_fish', 'flatfish', 'ray', 'shark', 'trout'],\n",
    "    'flowers': ['orchids', 'poppies', 'roses', 'sunflowers', 'tulips'],\n",
    "    'food containers': ['bottles', 'bowls', 'cans', 'cups', 'plates'],\n",
    "    'fruit and vegetables': ['apples', 'mushrooms', 'oranges', 'pears', 'sweet_peppers'],\n",
    "    'household electrical devices': ['clock', 'computer_keyboard', 'lamp', 'telephone', 'television'],\n",
    "    'household furniture': ['bed', 'chair', 'couch', 'table', 'wardrobe'],\n",
    "    'insects': ['bee', 'beetle', 'butterfly', 'caterpillar', 'cockroach'],\n",
    "    'large carnivores': ['bear', 'leopard', 'lion', 'tiger', 'wolf'],\n",
    "    'large man-made outdoor things': ['bridge', 'castle', 'house', 'road', 'skyscraper'],\n",
    "    'large natural outdoor scenes': ['cloud', 'forest', 'mountain', 'plain', 'sea'],\n",
    "    'large omnivores and herbivores': ['camel', 'cattle', 'chimpanzee', 'elephant', 'kangaroo'],\n",
    "    'medium-sized mammals': ['fox', 'porcupine', 'possum', 'raccoon', 'skunk'],\n",
    "    'non-insect invertebrates': ['crab', 'lobster', 'snail', 'spider', 'worm'],\n",
    "    'people': ['baby', 'boy', 'girl', 'man', 'woman'],\n",
    "    'reptiles': ['crocodile', 'dinosaur', 'lizard', 'snake', 'turtle'],\n",
    "    'small mammals': ['hamster', 'mouse', 'rabbit', 'shrew', 'squirrel'],\n",
    "    'trees': ['maple_tree', 'oak_tree', 'palm_tree', 'pine_tree', 'willow_tree'],\n",
    "    'vehicles 1': ['bicycle', 'bus', 'motorcycle', 'pickup_truck', 'train'],\n",
    "    'vehicles 2': ['lawn_mower', 'rocket', 'streetcar', 'tank', 'tractor']\n",
    "}"
   ]
  },
  {
   "cell_type": "markdown",
   "id": "b9206b0b-6d78-435f-a2f5-8a7deaa3003c",
   "metadata": {},
   "source": [
    "## Importaciones"
   ]
  },
  {
   "cell_type": "code",
   "execution_count": 15,
   "id": "61706912",
   "metadata": {},
   "outputs": [],
   "source": [
    "from tensorflow.keras.datasets import cifar100\n",
    "from tensorflow.keras.utils import to_categorical, Sequence\n",
    "from tensorflow.keras.models import Model\n",
    "from tensorflow.keras.layers import Input, Flatten, Dense, Dropout, BatchNormalization\n",
    "from tensorflow.keras.optimizers import Adam, Nadam\n",
    "from tensorflow.keras.callbacks import EarlyStopping, ModelCheckpoint, ReduceLROnPlateau, LearningRateScheduler\n",
    "from tensorflow.keras.regularizers import l1_l2\n",
    "from tensorflow.keras.preprocessing.image import ImageDataGenerator\n",
    "from tensorflow.keras.initializers import HeNormal\n",
    "from sklearn.model_selection import train_test_split\n",
    "import numpy as np"
   ]
  },
  {
   "cell_type": "markdown",
   "id": "d895c9ef-9e3b-4b6c-8431-3d9de6fc5fd7",
   "metadata": {},
   "source": [
    "## Cargar datos CIFAR-100 (fine y coarse)"
   ]
  },
  {
   "cell_type": "code",
   "execution_count": 16,
   "id": "caf43d28-374f-4b50-8798-bfd386ef2576",
   "metadata": {},
   "outputs": [],
   "source": [
    "(x_train, y_train_fine), (x_test, y_test_fine) = cifar100.load_data(label_mode='fine')\n",
    "(_, y_train_coarse), (_, y_test_coarse) = cifar100.load_data(label_mode='coarse')"
   ]
  },
  {
   "cell_type": "markdown",
   "id": "f6ef2ea9-3a38-4100-a72f-e3ddeebb2bd1",
   "metadata": {},
   "source": [
    "## Normalizar imágenes"
   ]
  },
  {
   "cell_type": "code",
   "execution_count": 17,
   "id": "4891f88c-7748-42ec-8da1-a7d02bf2199c",
   "metadata": {},
   "outputs": [],
   "source": [
    "def normalize_images(images):\n",
    "    mean = np.array([0.4914, 0.4822, 0.4465])\n",
    "    std = np.array([0.2470, 0.2435, 0.2616])\n",
    "    return (images.astype('float32') - mean) / std\n",
    "\n",
    "x_train = normalize_images(x_train)\n",
    "x_test = normalize_images(x_test)"
   ]
  },
  {
   "cell_type": "markdown",
   "id": "75d74df0-bdc8-4675-a55b-ab1dd6bc7418",
   "metadata": {},
   "source": [
    "## One-hot encoding"
   ]
  },
  {
   "cell_type": "code",
   "execution_count": 19,
   "id": "31f6b4a7-9f75-4695-b508-5ad7943fe6b3",
   "metadata": {},
   "outputs": [],
   "source": [
    "y_train_fine = to_categorical(y_train_fine, 100)\n",
    "y_test_fine = to_categorical(y_test_fine, 100)\n",
    "y_train_coarse = to_categorical(y_train_coarse, 20)\n",
    "y_test_coarse = to_categorical(y_test_coarse, 20)"
   ]
  },
  {
   "cell_type": "markdown",
   "id": "8fae50c0-a39b-46d2-9fa6-69e2148ae538",
   "metadata": {},
   "source": [
    "### Separar validación"
   ]
  },
  {
   "cell_type": "code",
   "execution_count": 20,
   "id": "683b895d-108e-4dec-99ce-c284202d915c",
   "metadata": {},
   "outputs": [],
   "source": [
    "x_train_split, x_val_split, y_train_fine_split, y_val_fine_split, y_train_coarse_split, y_val_coarse_split = train_test_split(\n",
    "    x_train, y_train_fine, y_train_coarse, test_size=0.15, random_state=42)"
   ]
  },
  {
   "cell_type": "markdown",
   "id": "5fb252b3-0c67-4ec0-a9d5-079c1afe6cc4",
   "metadata": {},
   "source": [
    "### Definir la clase MultiOutputDataGenerator"
   ]
  },
  {
   "cell_type": "code",
   "execution_count": 21,
   "id": "1e32cfbd-7207-4239-b433-509fc3a652b5",
   "metadata": {},
   "outputs": [],
   "source": [
    "class MultiOutputDataGenerator(Sequence):\n",
    "    def __init__(self, x, y_fine, y_coarse, batch_size, datagen, shuffle=True):\n",
    "        self.x = x\n",
    "        self.y_fine = y_fine\n",
    "        self.y_coarse = y_coarse\n",
    "        self.batch_size = batch_size\n",
    "        self.datagen = datagen\n",
    "        self.shuffle = shuffle\n",
    "        self.indexes = np.arange(len(x))\n",
    "        if shuffle:\n",
    "            np.random.shuffle(self.indexes)\n",
    "    \n",
    "    def __len__(self):\n",
    "        return int(np.ceil(len(self.x) / self.batch_size))\n",
    "    \n",
    "    def __getitem__(self, index):\n",
    "        batch_indexes = self.indexes[index*self.batch_size:(index+1)*self.batch_size]\n",
    "        x_batch = self.x[batch_indexes]\n",
    "        y_fine_batch = self.y_fine[batch_indexes]\n",
    "        y_coarse_batch = self.y_coarse[batch_indexes]\n",
    "        \n",
    "        # Aplicar data augmentation\n",
    "        x_batch_augmented = np.zeros_like(x_batch)\n",
    "        for i in range(len(x_batch)):\n",
    "            x_batch_augmented[i] = self.datagen.random_transform(x_batch[i])\n",
    "        \n",
    "        return x_batch_augmented, {'fine_output': y_fine_batch, 'coarse_output': y_coarse_batch}\n",
    "    \n",
    "    def on_epoch_end(self):\n",
    "        if self.shuffle:\n",
    "            np.random.shuffle(self.indexes)\n",
    "\n",
    "# Crear el generador de datos\n",
    "train_generator = MultiOutputDataGenerator(\n",
    "    x_train_split,\n",
    "    y_train_fine_split,\n",
    "    y_train_coarse_split,\n",
    "    batch_size=128,\n",
    "    datagen=datagen,\n",
    "    shuffle=True\n",
    ")"
   ]
  },
  {
   "cell_type": "markdown",
   "id": "573abae5-f92f-4860-beb9-bc1c28b3d052",
   "metadata": {},
   "source": [
    "### Data augmentation"
   ]
  },
  {
   "cell_type": "code",
   "execution_count": 22,
   "id": "9beca690-8f44-4945-8f0b-cf98ae449052",
   "metadata": {},
   "outputs": [],
   "source": [
    "datagen = ImageDataGenerator(\n",
    "    rotation_range=15,\n",
    "    width_shift_range=0.1,\n",
    "    height_shift_range=0.1,\n",
    "    horizontal_flip=True,\n",
    "    zoom_range=0.1,\n",
    "    fill_mode='constant',\n",
    "    cval=0\n",
    ")"
   ]
  },
  {
   "cell_type": "markdown",
   "id": "7ae30cef-1bbf-4f04-8a88-e32fb1efcabf",
   "metadata": {},
   "source": [
    "## Arquitectura Modelo MLP"
   ]
  },
  {
   "cell_type": "code",
   "execution_count": 9,
   "id": "977747ec-2f76-4ea5-b141-147a875a66dd",
   "metadata": {},
   "outputs": [],
   "source": [
    "input_shape = (32, 32, 3)\n",
    "inputs = Input(shape=input_shape)\n",
    "x = Flatten()(inputs)\n",
    "\n",
    "# Capas ocultas con inicialización He y regularización L1-L2\n",
    "x = Dense(2048, activation='relu', \n",
    "          kernel_regularizer=l1_l2(l1=1e-5, l2=1e-4),\n",
    "          kernel_initializer=HeNormal())(x)\n",
    "x = BatchNormalization()(x)\n",
    "x = Dropout(0.5)(x)\n",
    "\n",
    "x = Dense(1536, activation='relu',\n",
    "          kernel_regularizer=l1_l2(l1=1e-5, l2=1e-4),\n",
    "          kernel_initializer=HeNormal())(x)\n",
    "x = BatchNormalization()(x)\n",
    "x = Dropout(0.5)(x)\n",
    "\n",
    "x = Dense(1024, activation='relu',\n",
    "          kernel_regularizer=l1_l2(l1=1e-5, l2=1e-4),\n",
    "          kernel_initializer=HeNormal())(x)\n",
    "x = BatchNormalization()(x)\n",
    "x = Dropout(0.4)(x)\n",
    "\n",
    "x = Dense(768, activation='relu',\n",
    "          kernel_regularizer=l1_l2(l1=1e-5, l2=1e-4),\n",
    "          kernel_initializer=HeNormal())(x)\n",
    "x = BatchNormalization()(x)\n",
    "x = Dropout(0.3)(x)\n",
    "\n",
    "# Capas de salida con label smoothing implícito\n",
    "output_fine = Dense(100, activation='softmax', name='fine_output')(x)\n",
    "output_coarse = Dense(20, activation='softmax', name='coarse_output')(x)\n",
    "\n",
    "model = Model(inputs=inputs, outputs=[output_fine, output_coarse])"
   ]
  },
  {
   "cell_type": "markdown",
   "id": "17173fa6-efaa-4230-8f74-95b7e56ae5eb",
   "metadata": {},
   "source": [
    "### Optimizador mejorado"
   ]
  },
  {
   "cell_type": "code",
   "execution_count": 26,
   "id": "e4babbd7-4fc0-4e7d-87df-f424cba366c9",
   "metadata": {},
   "outputs": [],
   "source": [
    "def lr_schedule(epoch):\n",
    "    \"\"\"Learning Rate Schedule\"\"\"\n",
    "    lr = 3e-4\n",
    "    if epoch > 80:\n",
    "        lr *= 0.5e-3\n",
    "    elif epoch > 60:\n",
    "        lr *= 1e-3\n",
    "    elif epoch > 40:\n",
    "        lr *= 1e-2\n",
    "    elif epoch > 20:\n",
    "        lr *= 1e-1\n",
    "    return lr"
   ]
  },
  {
   "cell_type": "markdown",
   "id": "cd28cbfb-158c-4bec-a509-51c55bb4dad1",
   "metadata": {},
   "source": [
    "### Callbacks"
   ]
  },
  {
   "cell_type": "code",
   "execution_count": 27,
   "id": "889cf102-ed73-4041-98f7-36fd58f26c58",
   "metadata": {},
   "outputs": [],
   "source": [
    "early_stopping = EarlyStopping(\n",
    "    monitor='val_fine_output_accuracy',\n",
    "    patience=10,\n",
    "    restore_best_weights=True,\n",
    "    min_delta=0.001,\n",
    "    mode='max'\n",
    ")\n",
    "\n",
    "checkpoint = ModelCheckpoint(\n",
    "    'best_mlp_cifar100.h5',\n",
    "    monitor='val_fine_output_accuracy',\n",
    "    save_best_only=True,\n",
    "    mode='max'\n",
    ")\n",
    "\n",
    "reduce_lr = ReduceLROnPlateau(\n",
    "    monitor='val_fine_output_loss',\n",
    "    factor=0.5,\n",
    "    patience=5,\n",
    "    min_lr=1e-5,\n",
    "    verbose=1\n",
    ")\n",
    "\n",
    "lr_scheduler = LearningRateScheduler(lr_schedule)"
   ]
  },
  {
   "cell_type": "markdown",
   "id": "9edbd74e-c41a-4207-b288-df24b99932ed",
   "metadata": {},
   "source": [
    "### Optimizador Nadam (Adam con Nesterov momentum)"
   ]
  },
  {
   "cell_type": "code",
   "execution_count": 28,
   "id": "a47a69b9-59e3-4221-b221-263fc71aeb0c",
   "metadata": {},
   "outputs": [],
   "source": [
    "optimizer = Nadam(\n",
    "    learning_rate=3e-4,\n",
    "    beta_1=0.9,\n",
    "    beta_2=0.999,\n",
    "    epsilon=1e-8\n",
    ")\n",
    "\n",
    "model.compile(\n",
    "    optimizer=optimizer,\n",
    "    loss={'fine_output': 'categorical_crossentropy', 'coarse_output': 'categorical_crossentropy'},\n",
    "    metrics={'fine_output': 'accuracy', 'coarse_output': 'accuracy'},\n",
    "    loss_weights={'fine_output': 0.7, 'coarse_output': 0.3}\n",
    ")"
   ]
  },
  {
   "cell_type": "markdown",
   "id": "6483efcd-a309-40c2-8aa7-c6129e2164b2",
   "metadata": {},
   "source": [
    "### Entrenamiento del modelo"
   ]
  },
  {
   "cell_type": "code",
   "execution_count": 29,
   "id": "7e5bfa94-52ef-4035-bfc2-5e26c1a30e0c",
   "metadata": {
    "scrolled": true
   },
   "outputs": [
    {
     "name": "stdout",
     "output_type": "stream",
     "text": [
      "Epoch 1/150\n",
      "333/333 [==============================] - 94s 273ms/step - loss: 4.1048 - fine_output_loss: 3.4771 - coarse_output_loss: 2.3045 - fine_output_accuracy: 0.1672 - coarse_output_accuracy: 0.2840 - val_loss: 4.0854 - val_fine_output_loss: 3.4755 - val_coarse_output_loss: 2.2781 - val_fine_output_accuracy: 0.1661 - val_coarse_output_accuracy: 0.2827 - lr: 3.0000e-04\n",
      "Epoch 2/150\n",
      "333/333 [==============================] - 95s 286ms/step - loss: 4.0966 - fine_output_loss: 3.4907 - coarse_output_loss: 2.3095 - fine_output_accuracy: 0.1649 - coarse_output_accuracy: 0.2873 - val_loss: 4.2408 - val_fine_output_loss: 3.6677 - val_coarse_output_loss: 2.3972 - val_fine_output_accuracy: 0.1368 - val_coarse_output_accuracy: 0.2521 - lr: 3.0000e-04\n",
      "Epoch 3/150\n",
      "333/333 [==============================] - 98s 294ms/step - loss: 4.0685 - fine_output_loss: 3.4788 - coarse_output_loss: 2.3065 - fine_output_accuracy: 0.1658 - coarse_output_accuracy: 0.2833 - val_loss: 3.9974 - val_fine_output_loss: 3.4144 - val_coarse_output_loss: 2.2404 - val_fine_output_accuracy: 0.1763 - val_coarse_output_accuracy: 0.3008 - lr: 3.0000e-04\n",
      "Epoch 4/150\n",
      "333/333 [==============================] - 96s 288ms/step - loss: 4.0568 - fine_output_loss: 3.4813 - coarse_output_loss: 2.3097 - fine_output_accuracy: 0.1670 - coarse_output_accuracy: 0.2842 - val_loss: 3.9647 - val_fine_output_loss: 3.3870 - val_coarse_output_loss: 2.2325 - val_fine_output_accuracy: 0.1867 - val_coarse_output_accuracy: 0.2995 - lr: 3.0000e-04\n",
      "Epoch 5/150\n",
      "333/333 [==============================] - 94s 282ms/step - loss: 4.0239 - fine_output_loss: 3.4636 - coarse_output_loss: 2.2996 - fine_output_accuracy: 0.1716 - coarse_output_accuracy: 0.2884 - val_loss: 4.0148 - val_fine_output_loss: 3.4738 - val_coarse_output_loss: 2.2912 - val_fine_output_accuracy: 0.1657 - val_coarse_output_accuracy: 0.2805 - lr: 3.0000e-04\n",
      "Epoch 6/150\n",
      "333/333 [==============================] - 95s 285ms/step - loss: 4.0153 - fine_output_loss: 3.4657 - coarse_output_loss: 2.2997 - fine_output_accuracy: 0.1671 - coarse_output_accuracy: 0.2859 - val_loss: 4.0352 - val_fine_output_loss: 3.5156 - val_coarse_output_loss: 2.2988 - val_fine_output_accuracy: 0.1535 - val_coarse_output_accuracy: 0.2767 - lr: 3.0000e-04\n",
      "Epoch 7/150\n",
      "333/333 [==============================] - 94s 282ms/step - loss: 3.9779 - fine_output_loss: 3.4502 - coarse_output_loss: 2.2927 - fine_output_accuracy: 0.1701 - coarse_output_accuracy: 0.2898 - val_loss: 3.9661 - val_fine_output_loss: 3.4540 - val_coarse_output_loss: 2.2711 - val_fine_output_accuracy: 0.1731 - val_coarse_output_accuracy: 0.2865 - lr: 3.0000e-04\n",
      "Epoch 8/150\n",
      "333/333 [==============================] - 91s 272ms/step - loss: 3.9687 - fine_output_loss: 3.4486 - coarse_output_loss: 2.2908 - fine_output_accuracy: 0.1733 - coarse_output_accuracy: 0.2893 - val_loss: 3.9565 - val_fine_output_loss: 3.4643 - val_coarse_output_loss: 2.2630 - val_fine_output_accuracy: 0.1727 - val_coarse_output_accuracy: 0.2988 - lr: 3.0000e-04\n",
      "Epoch 9/150\n",
      "333/333 [==============================] - ETA: 0s - loss: 3.9351 - fine_output_loss: 3.4379 - coarse_output_loss: 2.2867 - fine_output_accuracy: 0.1708 - coarse_output_accuracy: 0.2913\n",
      "Epoch 9: ReduceLROnPlateau reducing learning rate to 0.0001500000071246177.\n",
      "333/333 [==============================] - 81s 244ms/step - loss: 3.9351 - fine_output_loss: 3.4379 - coarse_output_loss: 2.2867 - fine_output_accuracy: 0.1708 - coarse_output_accuracy: 0.2913 - val_loss: 4.0022 - val_fine_output_loss: 3.5190 - val_coarse_output_loss: 2.3247 - val_fine_output_accuracy: 0.1627 - val_coarse_output_accuracy: 0.2741 - lr: 1.5000e-04\n",
      "Epoch 10/150\n",
      "333/333 [==============================] - 80s 241ms/step - loss: 3.9423 - fine_output_loss: 3.4491 - coarse_output_loss: 2.2993 - fine_output_accuracy: 0.1706 - coarse_output_accuracy: 0.2875 - val_loss: 4.1809 - val_fine_output_loss: 3.7331 - val_coarse_output_loss: 2.4124 - val_fine_output_accuracy: 0.1316 - val_coarse_output_accuracy: 0.2468 - lr: 3.0000e-04\n",
      "Epoch 11/150\n",
      "333/333 [==============================] - 79s 238ms/step - loss: 3.9421 - fine_output_loss: 3.4488 - coarse_output_loss: 2.2981 - fine_output_accuracy: 0.1726 - coarse_output_accuracy: 0.2902 - val_loss: 3.9682 - val_fine_output_loss: 3.4931 - val_coarse_output_loss: 2.2952 - val_fine_output_accuracy: 0.1593 - val_coarse_output_accuracy: 0.2893 - lr: 3.0000e-04\n",
      "Epoch 12/150\n",
      "333/333 [==============================] - 80s 240ms/step - loss: 3.9076 - fine_output_loss: 3.4233 - coarse_output_loss: 2.2847 - fine_output_accuracy: 0.1772 - coarse_output_accuracy: 0.2932 - val_loss: 3.8627 - val_fine_output_loss: 3.3888 - val_coarse_output_loss: 2.2301 - val_fine_output_accuracy: 0.1848 - val_coarse_output_accuracy: 0.3083 - lr: 3.0000e-04\n",
      "Epoch 13/150\n",
      "333/333 [==============================] - 91s 273ms/step - loss: 3.8787 - fine_output_loss: 3.4043 - coarse_output_loss: 2.2743 - fine_output_accuracy: 0.1784 - coarse_output_accuracy: 0.2936 - val_loss: 3.7764 - val_fine_output_loss: 3.3237 - val_coarse_output_loss: 2.1772 - val_fine_output_accuracy: 0.1919 - val_coarse_output_accuracy: 0.3255 - lr: 3.0000e-04\n",
      "Epoch 14/150\n",
      "333/333 [==============================] - 84s 251ms/step - loss: 3.8639 - fine_output_loss: 3.4120 - coarse_output_loss: 2.2738 - fine_output_accuracy: 0.1761 - coarse_output_accuracy: 0.2937 - val_loss: 3.7671 - val_fine_output_loss: 3.3224 - val_coarse_output_loss: 2.1918 - val_fine_output_accuracy: 0.1915 - val_coarse_output_accuracy: 0.3103 - lr: 3.0000e-04\n",
      "Epoch 15/150\n",
      "333/333 [==============================] - 83s 249ms/step - loss: 3.8465 - fine_output_loss: 3.3994 - coarse_output_loss: 2.2697 - fine_output_accuracy: 0.1773 - coarse_output_accuracy: 0.2975 - val_loss: 3.8824 - val_fine_output_loss: 3.4532 - val_coarse_output_loss: 2.2707 - val_fine_output_accuracy: 0.1748 - val_coarse_output_accuracy: 0.2911 - lr: 3.0000e-04\n",
      "Epoch 16/150\n",
      "333/333 [==============================] - 84s 251ms/step - loss: 3.8459 - fine_output_loss: 3.3998 - coarse_output_loss: 2.2705 - fine_output_accuracy: 0.1773 - coarse_output_accuracy: 0.2947 - val_loss: 3.7965 - val_fine_output_loss: 3.3652 - val_coarse_output_loss: 2.2134 - val_fine_output_accuracy: 0.1933 - val_coarse_output_accuracy: 0.3116 - lr: 3.0000e-04\n",
      "Epoch 17/150\n",
      "333/333 [==============================] - 83s 249ms/step - loss: 3.8385 - fine_output_loss: 3.3951 - coarse_output_loss: 2.2704 - fine_output_accuracy: 0.1829 - coarse_output_accuracy: 0.2970 - val_loss: 3.7849 - val_fine_output_loss: 3.3503 - val_coarse_output_loss: 2.1997 - val_fine_output_accuracy: 0.1887 - val_coarse_output_accuracy: 0.3140 - lr: 3.0000e-04\n",
      "Epoch 18/150\n",
      "333/333 [==============================] - 87s 262ms/step - loss: 3.8226 - fine_output_loss: 3.3855 - coarse_output_loss: 2.2657 - fine_output_accuracy: 0.1806 - coarse_output_accuracy: 0.2945 - val_loss: 3.7619 - val_fine_output_loss: 3.3269 - val_coarse_output_loss: 2.1892 - val_fine_output_accuracy: 0.1936 - val_coarse_output_accuracy: 0.3099 - lr: 3.0000e-04\n",
      "Epoch 19/150\n",
      "333/333 [==============================] - ETA: 0s - loss: 3.8208 - fine_output_loss: 3.3875 - coarse_output_loss: 2.2687 - fine_output_accuracy: 0.1815 - coarse_output_accuracy: 0.2979\n",
      "Epoch 19: ReduceLROnPlateau reducing learning rate to 0.0001500000071246177.\n",
      "333/333 [==============================] - 91s 272ms/step - loss: 3.8208 - fine_output_loss: 3.3875 - coarse_output_loss: 2.2687 - fine_output_accuracy: 0.1815 - coarse_output_accuracy: 0.2979 - val_loss: 37.5954 - val_fine_output_loss: 42.1401 - val_coarse_output_loss: 24.4196 - val_fine_output_accuracy: 0.0100 - val_coarse_output_accuracy: 0.0640 - lr: 1.5000e-04\n",
      "Epoch 20/150\n",
      "333/333 [==============================] - 88s 265ms/step - loss: 3.8126 - fine_output_loss: 3.3796 - coarse_output_loss: 2.2626 - fine_output_accuracy: 0.1813 - coarse_output_accuracy: 0.2980 - val_loss: 3.8376 - val_fine_output_loss: 3.4116 - val_coarse_output_loss: 2.2407 - val_fine_output_accuracy: 0.1807 - val_coarse_output_accuracy: 0.3104 - lr: 3.0000e-04\n",
      "Epoch 21/150\n",
      "333/333 [==============================] - 91s 272ms/step - loss: 3.8145 - fine_output_loss: 3.3775 - coarse_output_loss: 2.2638 - fine_output_accuracy: 0.1834 - coarse_output_accuracy: 0.2982 - val_loss: 3.7405 - val_fine_output_loss: 3.3164 - val_coarse_output_loss: 2.1909 - val_fine_output_accuracy: 0.1975 - val_coarse_output_accuracy: 0.3243 - lr: 3.0000e-04\n",
      "Epoch 22/150\n",
      "333/333 [==============================] - 95s 287ms/step - loss: 3.7212 - fine_output_loss: 3.2921 - coarse_output_loss: 2.2128 - fine_output_accuracy: 0.1993 - coarse_output_accuracy: 0.3135 - val_loss: 3.5286 - val_fine_output_loss: 3.0958 - val_coarse_output_loss: 2.0588 - val_fine_output_accuracy: 0.2392 - val_coarse_output_accuracy: 0.3607 - lr: 3.0000e-05\n",
      "Epoch 23/150\n",
      "333/333 [==============================] - 84s 253ms/step - loss: 3.6775 - fine_output_loss: 3.2611 - coarse_output_loss: 2.1971 - fine_output_accuracy: 0.2073 - coarse_output_accuracy: 0.3220 - val_loss: 3.5013 - val_fine_output_loss: 3.0834 - val_coarse_output_loss: 2.0523 - val_fine_output_accuracy: 0.2413 - val_coarse_output_accuracy: 0.3636 - lr: 3.0000e-05\n",
      "Epoch 24/150\n",
      "333/333 [==============================] - 88s 264ms/step - loss: 3.6443 - fine_output_loss: 3.2422 - coarse_output_loss: 2.1872 - fine_output_accuracy: 0.2076 - coarse_output_accuracy: 0.3208 - val_loss: 3.4878 - val_fine_output_loss: 3.0875 - val_coarse_output_loss: 2.0539 - val_fine_output_accuracy: 0.2416 - val_coarse_output_accuracy: 0.3627 - lr: 3.0000e-05\n",
      "Epoch 25/150\n",
      "333/333 [==============================] - 96s 287ms/step - loss: 3.6139 - fine_output_loss: 3.2262 - coarse_output_loss: 2.1777 - fine_output_accuracy: 0.2121 - coarse_output_accuracy: 0.3261 - val_loss: 3.4550 - val_fine_output_loss: 3.0696 - val_coarse_output_loss: 2.0406 - val_fine_output_accuracy: 0.2477 - val_coarse_output_accuracy: 0.3669 - lr: 3.0000e-05\n",
      "Epoch 26/150\n",
      "333/333 [==============================] - 82s 245ms/step - loss: 3.5969 - fine_output_loss: 3.2251 - coarse_output_loss: 2.1768 - fine_output_accuracy: 0.2093 - coarse_output_accuracy: 0.3261 - val_loss: 3.4437 - val_fine_output_loss: 3.0748 - val_coarse_output_loss: 2.0434 - val_fine_output_accuracy: 0.2475 - val_coarse_output_accuracy: 0.3680 - lr: 3.0000e-05\n",
      "Epoch 27/150\n",
      "333/333 [==============================] - 88s 263ms/step - loss: 3.5695 - fine_output_loss: 3.2118 - coarse_output_loss: 2.1686 - fine_output_accuracy: 0.2141 - coarse_output_accuracy: 0.3276 - val_loss: 3.4213 - val_fine_output_loss: 3.0673 - val_coarse_output_loss: 2.0383 - val_fine_output_accuracy: 0.2464 - val_coarse_output_accuracy: 0.3640 - lr: 3.0000e-05\n",
      "Epoch 28/150\n",
      "333/333 [==============================] - 88s 263ms/step - loss: 3.5476 - fine_output_loss: 3.2034 - coarse_output_loss: 2.1668 - fine_output_accuracy: 0.2151 - coarse_output_accuracy: 0.3309 - val_loss: 3.5146 - val_fine_output_loss: 3.1898 - val_coarse_output_loss: 2.1098 - val_fine_output_accuracy: 0.2277 - val_coarse_output_accuracy: 0.3509 - lr: 3.0000e-05\n",
      "Epoch 29/150\n",
      "333/333 [==============================] - 97s 291ms/step - loss: 3.5285 - fine_output_loss: 3.1981 - coarse_output_loss: 2.1605 - fine_output_accuracy: 0.2155 - coarse_output_accuracy: 0.3303 - val_loss: 3.3944 - val_fine_output_loss: 3.0693 - val_coarse_output_loss: 2.0380 - val_fine_output_accuracy: 0.2488 - val_coarse_output_accuracy: 0.3700 - lr: 3.0000e-05\n",
      "Epoch 30/150\n",
      "333/333 [==============================] - 94s 281ms/step - loss: 3.5065 - fine_output_loss: 3.1883 - coarse_output_loss: 2.1574 - fine_output_accuracy: 0.2179 - coarse_output_accuracy: 0.3314 - val_loss: 3.3633 - val_fine_output_loss: 3.0481 - val_coarse_output_loss: 2.0298 - val_fine_output_accuracy: 0.2525 - val_coarse_output_accuracy: 0.3748 - lr: 3.0000e-05\n",
      "Epoch 31/150\n",
      "333/333 [==============================] - 90s 270ms/step - loss: 3.4946 - fine_output_loss: 3.1902 - coarse_output_loss: 2.1575 - fine_output_accuracy: 0.2161 - coarse_output_accuracy: 0.3326 - val_loss: 3.3481 - val_fine_output_loss: 3.0468 - val_coarse_output_loss: 2.0262 - val_fine_output_accuracy: 0.2464 - val_coarse_output_accuracy: 0.3693 - lr: 3.0000e-05\n",
      "Epoch 32/150\n",
      "333/333 [==============================] - 88s 266ms/step - loss: 3.4731 - fine_output_loss: 3.1818 - coarse_output_loss: 2.1500 - fine_output_accuracy: 0.2177 - coarse_output_accuracy: 0.3344 - val_loss: 3.3298 - val_fine_output_loss: 3.0409 - val_coarse_output_loss: 2.0222 - val_fine_output_accuracy: 0.2535 - val_coarse_output_accuracy: 0.3724 - lr: 3.0000e-05\n",
      "Epoch 33/150\n",
      "333/333 [==============================] - 92s 276ms/step - loss: 3.4621 - fine_output_loss: 3.1838 - coarse_output_loss: 2.1500 - fine_output_accuracy: 0.2184 - coarse_output_accuracy: 0.3321 - val_loss: 3.3161 - val_fine_output_loss: 3.0389 - val_coarse_output_loss: 2.0207 - val_fine_output_accuracy: 0.2547 - val_coarse_output_accuracy: 0.3752 - lr: 3.0000e-05\n",
      "Epoch 34/150\n",
      "333/333 [==============================] - 91s 274ms/step - loss: 3.4407 - fine_output_loss: 3.1719 - coarse_output_loss: 2.1446 - fine_output_accuracy: 0.2197 - coarse_output_accuracy: 0.3362 - val_loss: 24.3935 - val_fine_output_loss: 26.4958 - val_coarse_output_loss: 17.5845 - val_fine_output_accuracy: 0.0529 - val_coarse_output_accuracy: 0.1167 - lr: 3.0000e-05\n",
      "Epoch 35/150\n",
      "333/333 [==============================] - 92s 275ms/step - loss: 3.4229 - fine_output_loss: 3.1646 - coarse_output_loss: 2.1403 - fine_output_accuracy: 0.2226 - coarse_output_accuracy: 0.3361 - val_loss: 3.2881 - val_fine_output_loss: 3.0347 - val_coarse_output_loss: 2.0140 - val_fine_output_accuracy: 0.2525 - val_coarse_output_accuracy: 0.3765 - lr: 3.0000e-05\n",
      "Epoch 36/150\n",
      "333/333 [==============================] - 91s 274ms/step - loss: 3.4060 - fine_output_loss: 3.1585 - coarse_output_loss: 2.1375 - fine_output_accuracy: 0.2223 - coarse_output_accuracy: 0.3375 - val_loss: 3.2764 - val_fine_output_loss: 3.0320 - val_coarse_output_loss: 2.0166 - val_fine_output_accuracy: 0.2523 - val_coarse_output_accuracy: 0.3759 - lr: 3.0000e-05\n",
      "Epoch 37/150\n",
      "333/333 [==============================] - 86s 259ms/step - loss: 3.3912 - fine_output_loss: 3.1524 - coarse_output_loss: 2.1357 - fine_output_accuracy: 0.2245 - coarse_output_accuracy: 0.3388 - val_loss: 6.7608 - val_fine_output_loss: 7.0509 - val_coarse_output_loss: 4.2884 - val_fine_output_accuracy: 0.0291 - val_coarse_output_accuracy: 0.0839 - lr: 3.0000e-05\n",
      "Epoch 38/150\n",
      "333/333 [==============================] - 83s 248ms/step - loss: 3.3818 - fine_output_loss: 3.1533 - coarse_output_loss: 2.1335 - fine_output_accuracy: 0.2269 - coarse_output_accuracy: 0.3392 - val_loss: 3.2462 - val_fine_output_loss: 3.0196 - val_coarse_output_loss: 2.0076 - val_fine_output_accuracy: 0.2531 - val_coarse_output_accuracy: 0.3780 - lr: 3.0000e-05\n",
      "Epoch 39/150\n",
      "333/333 [==============================] - 86s 258ms/step - loss: 3.3731 - fine_output_loss: 3.1518 - coarse_output_loss: 2.1358 - fine_output_accuracy: 0.2237 - coarse_output_accuracy: 0.3383 - val_loss: 3.2449 - val_fine_output_loss: 3.0275 - val_coarse_output_loss: 2.0143 - val_fine_output_accuracy: 0.2515 - val_coarse_output_accuracy: 0.3736 - lr: 3.0000e-05\n",
      "Epoch 40/150\n",
      "333/333 [==============================] - 83s 249ms/step - loss: 3.3545 - fine_output_loss: 3.1415 - coarse_output_loss: 2.1277 - fine_output_accuracy: 0.2257 - coarse_output_accuracy: 0.3388 - val_loss: 3.2309 - val_fine_output_loss: 3.0213 - val_coarse_output_loss: 2.0094 - val_fine_output_accuracy: 0.2541 - val_coarse_output_accuracy: 0.3768 - lr: 3.0000e-05\n",
      "Epoch 41/150\n",
      "333/333 [==============================] - 92s 277ms/step - loss: 3.3437 - fine_output_loss: 3.1394 - coarse_output_loss: 2.1229 - fine_output_accuracy: 0.2266 - coarse_output_accuracy: 0.3388 - val_loss: 3.2408 - val_fine_output_loss: 3.0416 - val_coarse_output_loss: 2.0204 - val_fine_output_accuracy: 0.2484 - val_coarse_output_accuracy: 0.3724 - lr: 3.0000e-05\n",
      "Epoch 42/150\n",
      "333/333 [==============================] - 83s 247ms/step - loss: 3.3251 - fine_output_loss: 3.1219 - coarse_output_loss: 2.1175 - fine_output_accuracy: 0.2299 - coarse_output_accuracy: 0.3424 - val_loss: 3.2021 - val_fine_output_loss: 2.9997 - val_coarse_output_loss: 1.9960 - val_fine_output_accuracy: 0.2604 - val_coarse_output_accuracy: 0.3811 - lr: 3.0000e-06\n",
      "Epoch 43/150\n",
      "333/333 [==============================] - 80s 239ms/step - loss: 3.3238 - fine_output_loss: 3.1240 - coarse_output_loss: 2.1151 - fine_output_accuracy: 0.2287 - coarse_output_accuracy: 0.3444 - val_loss: 3.1983 - val_fine_output_loss: 2.9975 - val_coarse_output_loss: 1.9949 - val_fine_output_accuracy: 0.2603 - val_coarse_output_accuracy: 0.3823 - lr: 3.0000e-06\n",
      "Epoch 44/150\n",
      "333/333 [==============================] - 80s 239ms/step - loss: 3.3183 - fine_output_loss: 3.1170 - coarse_output_loss: 2.1192 - fine_output_accuracy: 0.2318 - coarse_output_accuracy: 0.3388 - val_loss: 3.1956 - val_fine_output_loss: 2.9967 - val_coarse_output_loss: 1.9941 - val_fine_output_accuracy: 0.2601 - val_coarse_output_accuracy: 0.3811 - lr: 3.0000e-06\n",
      "Epoch 45/150\n",
      "333/333 [==============================] - 86s 257ms/step - loss: 3.3150 - fine_output_loss: 3.1177 - coarse_output_loss: 2.1129 - fine_output_accuracy: 0.2339 - coarse_output_accuracy: 0.3456 - val_loss: 3.1948 - val_fine_output_loss: 2.9981 - val_coarse_output_loss: 1.9946 - val_fine_output_accuracy: 0.2604 - val_coarse_output_accuracy: 0.3807 - lr: 3.0000e-06\n",
      "Epoch 46/150\n",
      "333/333 [==============================] - 90s 269ms/step - loss: 3.3067 - fine_output_loss: 3.1097 - coarse_output_loss: 2.1103 - fine_output_accuracy: 0.2349 - coarse_output_accuracy: 0.3456 - val_loss: 3.1934 - val_fine_output_loss: 2.9985 - val_coarse_output_loss: 1.9951 - val_fine_output_accuracy: 0.2609 - val_coarse_output_accuracy: 0.3801 - lr: 3.0000e-06\n",
      "Epoch 47/150\n",
      "333/333 [==============================] - 80s 239ms/step - loss: 3.3120 - fine_output_loss: 3.1196 - coarse_output_loss: 2.1113 - fine_output_accuracy: 0.2323 - coarse_output_accuracy: 0.3451 - val_loss: 3.1905 - val_fine_output_loss: 2.9974 - val_coarse_output_loss: 1.9945 - val_fine_output_accuracy: 0.2589 - val_coarse_output_accuracy: 0.3819 - lr: 3.0000e-06\n",
      "Epoch 48/150\n",
      "333/333 [==============================] - 80s 240ms/step - loss: 3.3039 - fine_output_loss: 3.1105 - coarse_output_loss: 2.1117 - fine_output_accuracy: 0.2314 - coarse_output_accuracy: 0.3465 - val_loss: 3.1852 - val_fine_output_loss: 2.9935 - val_coarse_output_loss: 1.9923 - val_fine_output_accuracy: 0.2601 - val_coarse_output_accuracy: 0.3835 - lr: 3.0000e-06\n",
      "Epoch 49/150\n",
      "333/333 [==============================] - 79s 238ms/step - loss: 3.2976 - fine_output_loss: 3.1058 - coarse_output_loss: 2.1083 - fine_output_accuracy: 0.2339 - coarse_output_accuracy: 0.3486 - val_loss: 3.1839 - val_fine_output_loss: 2.9943 - val_coarse_output_loss: 1.9930 - val_fine_output_accuracy: 0.2596 - val_coarse_output_accuracy: 0.3813 - lr: 3.0000e-06\n",
      "Epoch 50/150\n",
      "333/333 [==============================] - 80s 241ms/step - loss: 3.3038 - fine_output_loss: 3.1158 - coarse_output_loss: 2.1123 - fine_output_accuracy: 0.2304 - coarse_output_accuracy: 0.3453 - val_loss: 3.1811 - val_fine_output_loss: 2.9936 - val_coarse_output_loss: 1.9916 - val_fine_output_accuracy: 0.2619 - val_coarse_output_accuracy: 0.3829 - lr: 3.0000e-06\n",
      "Epoch 51/150\n",
      "333/333 [==============================] - 80s 240ms/step - loss: 3.2959 - fine_output_loss: 3.1076 - coarse_output_loss: 2.1118 - fine_output_accuracy: 0.2320 - coarse_output_accuracy: 0.3451 - val_loss: 3.1788 - val_fine_output_loss: 2.9932 - val_coarse_output_loss: 1.9918 - val_fine_output_accuracy: 0.2624 - val_coarse_output_accuracy: 0.3809 - lr: 3.0000e-06\n",
      "Epoch 52/150\n",
      "333/333 [==============================] - 94s 283ms/step - loss: 3.2982 - fine_output_loss: 3.1138 - coarse_output_loss: 2.1115 - fine_output_accuracy: 0.2326 - coarse_output_accuracy: 0.3448 - val_loss: 3.1764 - val_fine_output_loss: 2.9927 - val_coarse_output_loss: 1.9918 - val_fine_output_accuracy: 0.2617 - val_coarse_output_accuracy: 0.3825 - lr: 3.0000e-06\n",
      "Epoch 53/150\n",
      "333/333 [==============================] - 111s 334ms/step - loss: 3.2957 - fine_output_loss: 3.1134 - coarse_output_loss: 2.1115 - fine_output_accuracy: 0.2312 - coarse_output_accuracy: 0.3446 - val_loss: 3.1738 - val_fine_output_loss: 2.9923 - val_coarse_output_loss: 1.9912 - val_fine_output_accuracy: 0.2607 - val_coarse_output_accuracy: 0.3827 - lr: 3.0000e-06\n",
      "Epoch 54/150\n",
      "333/333 [==============================] - 112s 336ms/step - loss: 3.2936 - fine_output_loss: 3.1132 - coarse_output_loss: 2.1119 - fine_output_accuracy: 0.2353 - coarse_output_accuracy: 0.3470 - val_loss: 3.1694 - val_fine_output_loss: 2.9896 - val_coarse_output_loss: 1.9895 - val_fine_output_accuracy: 0.2617 - val_coarse_output_accuracy: 0.3824 - lr: 3.0000e-06\n",
      "Epoch 55/150\n",
      "333/333 [==============================] - 113s 340ms/step - loss: 3.2851 - fine_output_loss: 3.1059 - coarse_output_loss: 2.1074 - fine_output_accuracy: 0.2322 - coarse_output_accuracy: 0.3481 - val_loss: 3.1661 - val_fine_output_loss: 2.9887 - val_coarse_output_loss: 1.9880 - val_fine_output_accuracy: 0.2636 - val_coarse_output_accuracy: 0.3823 - lr: 3.0000e-06\n",
      "Epoch 56/150\n",
      "333/333 [==============================] - 112s 336ms/step - loss: 3.2826 - fine_output_loss: 3.1057 - coarse_output_loss: 2.1069 - fine_output_accuracy: 0.2309 - coarse_output_accuracy: 0.3463 - val_loss: 3.1633 - val_fine_output_loss: 2.9876 - val_coarse_output_loss: 1.9883 - val_fine_output_accuracy: 0.2640 - val_coarse_output_accuracy: 0.3827 - lr: 3.0000e-06\n",
      "Epoch 57/150\n",
      "333/333 [==============================] - 112s 337ms/step - loss: 3.2803 - fine_output_loss: 3.1045 - coarse_output_loss: 2.1088 - fine_output_accuracy: 0.2341 - coarse_output_accuracy: 0.3428 - val_loss: 3.1603 - val_fine_output_loss: 2.9864 - val_coarse_output_loss: 1.9878 - val_fine_output_accuracy: 0.2637 - val_coarse_output_accuracy: 0.3833 - lr: 3.0000e-06\n",
      "Epoch 58/150\n",
      "333/333 [==============================] - 110s 329ms/step - loss: 3.2799 - fine_output_loss: 3.1076 - coarse_output_loss: 2.1070 - fine_output_accuracy: 0.2320 - coarse_output_accuracy: 0.3480 - val_loss: 3.1588 - val_fine_output_loss: 2.9868 - val_coarse_output_loss: 1.9884 - val_fine_output_accuracy: 0.2627 - val_coarse_output_accuracy: 0.3833 - lr: 3.0000e-06\n",
      "Epoch 59/150\n",
      "333/333 [==============================] - 111s 334ms/step - loss: 3.2715 - fine_output_loss: 3.1011 - coarse_output_loss: 2.1006 - fine_output_accuracy: 0.2336 - coarse_output_accuracy: 0.3477 - val_loss: 3.1566 - val_fine_output_loss: 2.9868 - val_coarse_output_loss: 1.9876 - val_fine_output_accuracy: 0.2625 - val_coarse_output_accuracy: 0.3851 - lr: 3.0000e-06\n",
      "Epoch 60/150\n",
      "333/333 [==============================] - 110s 331ms/step - loss: 3.2758 - fine_output_loss: 3.1074 - coarse_output_loss: 2.1066 - fine_output_accuracy: 0.2328 - coarse_output_accuracy: 0.3469 - val_loss: 3.1552 - val_fine_output_loss: 2.9871 - val_coarse_output_loss: 1.9886 - val_fine_output_accuracy: 0.2631 - val_coarse_output_accuracy: 0.3833 - lr: 3.0000e-06\n",
      "Epoch 61/150\n",
      "333/333 [==============================] - 110s 330ms/step - loss: 3.2660 - fine_output_loss: 3.0981 - coarse_output_loss: 2.1020 - fine_output_accuracy: 0.2337 - coarse_output_accuracy: 0.3475 - val_loss: 3.1520 - val_fine_output_loss: 2.9857 - val_coarse_output_loss: 1.9872 - val_fine_output_accuracy: 0.2611 - val_coarse_output_accuracy: 0.3843 - lr: 3.0000e-06\n",
      "Epoch 62/150\n",
      "333/333 [==============================] - 110s 330ms/step - loss: 3.2653 - fine_output_loss: 3.0999 - coarse_output_loss: 2.0987 - fine_output_accuracy: 0.2322 - coarse_output_accuracy: 0.3475 - val_loss: 3.1513 - val_fine_output_loss: 2.9851 - val_coarse_output_loss: 1.9869 - val_fine_output_accuracy: 0.2613 - val_coarse_output_accuracy: 0.3837 - lr: 3.0000e-07\n",
      "Epoch 63/150\n",
      "333/333 [==============================] - 110s 330ms/step - loss: 3.2637 - fine_output_loss: 3.0964 - coarse_output_loss: 2.1024 - fine_output_accuracy: 0.2351 - coarse_output_accuracy: 0.3483 - val_loss: 3.1502 - val_fine_output_loss: 2.9843 - val_coarse_output_loss: 1.9861 - val_fine_output_accuracy: 0.2621 - val_coarse_output_accuracy: 0.3840 - lr: 3.0000e-07\n",
      "Epoch 64/150\n",
      "333/333 [==============================] - 111s 334ms/step - loss: 3.2704 - fine_output_loss: 3.1055 - coarse_output_loss: 2.1043 - fine_output_accuracy: 0.2345 - coarse_output_accuracy: 0.3462 - val_loss: 3.1502 - val_fine_output_loss: 2.9846 - val_coarse_output_loss: 1.9862 - val_fine_output_accuracy: 0.2621 - val_coarse_output_accuracy: 0.3837 - lr: 3.0000e-07\n",
      "Epoch 65/150\n",
      "333/333 [==============================] - 113s 339ms/step - loss: 3.2610 - fine_output_loss: 3.0941 - coarse_output_loss: 2.1004 - fine_output_accuracy: 0.2359 - coarse_output_accuracy: 0.3481 - val_loss: 3.1502 - val_fine_output_loss: 2.9849 - val_coarse_output_loss: 1.9865 - val_fine_output_accuracy: 0.2613 - val_coarse_output_accuracy: 0.3836 - lr: 3.0000e-07\n"
     ]
    }
   ],
   "source": [
    "history = model.fit(\n",
    "    train_generator,\n",
    "    steps_per_epoch=len(train_generator),\n",
    "    epochs=150,\n",
    "    validation_data=(x_val_split, {'fine_output': y_val_fine_split, 'coarse_output': y_val_coarse_split}),\n",
    "    callbacks=[early_stopping, checkpoint, reduce_lr, lr_scheduler],\n",
    "    verbose=1\n",
    ")"
   ]
  },
  {
   "cell_type": "markdown",
   "id": "a507e1c9-8eaf-4fa2-911a-3c6e0786693c",
   "metadata": {},
   "source": [
    "## Evaluación"
   ]
  },
  {
   "cell_type": "code",
   "execution_count": null,
   "id": "6dd5c493-bad1-4e3e-adc3-936173900f1b",
   "metadata": {},
   "outputs": [],
   "source": []
  }
 ],
 "metadata": {
  "kernelspec": {
   "display_name": "Python 3",
   "language": "python",
   "name": "python3"
  },
  "language_info": {
   "codemirror_mode": {
    "name": "ipython",
    "version": 3
   },
   "file_extension": ".py",
   "mimetype": "text/x-python",
   "name": "python",
   "nbconvert_exporter": "python",
   "pygments_lexer": "ipython3",
   "version": "3.11.1"
  }
 },
 "nbformat": 4,
 "nbformat_minor": 5
}
